{
 "cells": [
  {
   "cell_type": "code",
   "execution_count": 1,
   "metadata": {
    "ExecuteTime": {
     "end_time": "2024-06-16T23:36:58.112541Z",
     "start_time": "2024-06-16T23:36:30.558760Z"
    }
   },
   "outputs": [],
   "source": [
    "import pandas as pd \n",
    "import numpy as np\n",
    "import sklearn\n",
    "import os\n",
    "import collections\n",
    "from sklearn import metrics,model_selection,linear_model\n",
    "import seaborn as sns \n",
    "import matplotlib.pyplot as plt\n",
    "from sklearn.ensemble import RandomForestRegressor,RandomForestClassifier\n",
    "from sklearn.naive_bayes import BernoulliNB\n",
    "from sklearn.linear_model import LinearRegression,BayesianRidge,LogisticRegression\n",
    "import tensorflow as tf\n",
    "from sklearn.model_selection import train_test_split\n",
    "import matplotlib.pyplot as plt"
   ]
  },
  {
   "cell_type": "code",
   "execution_count": 3,
   "metadata": {
    "ExecuteTime": {
     "end_time": "2024-06-16T23:36:58.559009Z",
     "start_time": "2024-06-16T23:36:58.452042Z"
    }
   },
   "outputs": [],
   "source": [
    "def transform(x):\n",
    "    if x=='Unknown':\n",
    "        return 'Dialogue level'\n",
    "    else:\n",
    "        return x\n",
    "    \n",
    "def assign_tone(row):\n",
    "    if row['backchannels'] > 0 or row['code-switching for communicative purposes'] > 0 or row['collaborative finishes'] > 0:\n",
    "        return 'Informal'\n",
    "    elif row['subordinate clauses'] > 0 or row['impersonal subject + non-factive verb + NP'] > 0:\n",
    "        return 'Formal'\n",
    "    else:\n",
    "        return 'Neutral'  # Default to Neutral if none of the criteria match\n",
    "    \n",
    "    \n",
    "def get_new_labels(counts_df,new_column='P-V',old_column=['topic extension with the same content',\n",
    "                                                          'topic extension under the previous direction']):\n",
    "    cc_dd=counts_df[old_column].astype(int).values\n",
    "    cc_dd=['-'.join([str(j) for j in i]) for i in cc_dd]\n",
    "    counts_df[new_column]=cc_dd\n",
    "    return counts_df\n",
    "\n",
    "def get_result(test_y,test_pred):\n",
    "    acc=metrics.accuracy_score(test_y,test_pred)\n",
    "    pre=metrics.precision_score(test_y,test_pred)\n",
    "    rec=metrics.recall_score(test_y,test_pred)\n",
    "    f1s=metrics.f1_score(test_y,test_pred)\n",
    "    return [acc,pre,rec,f1s]\n",
    "\n",
    "def get_result(test_y,test_pred):\n",
    "    acc=metrics.accuracy_score(test_y,test_pred)\n",
    "    pre=metrics.precision_score(test_y,test_pred,average='weighted')\n",
    "    rec=metrics.recall_score(test_y,test_pred,average='weighted')\n",
    "    f1s=metrics.f1_score(test_y,test_pred,average='weighted')\n",
    "    return [acc,pre,rec,f1s]\n",
    "\n",
    "def get_result_2(test_y,test_pred):\n",
    "    mae=metrics.mean_absolute_error(test_y,test_pred)\n",
    "    mse=metrics.mean_squared_error(test_y,test_pred)\n",
    "    mape=metrics.mean_absolute_percentage_error(test_y,test_pred)\n",
    "    r2=metrics.r2_score(test_y,test_pred)\n",
    "    return [mae,mse,mape,r2]\n",
    "\n",
    "def get_normal(data):\n",
    "    #============归一化===============\n",
    "    normal_list=[]\n",
    "    for i in data.values:\n",
    "        if i[2]=='Token level':\n",
    "            norm=len(i[3].split('&&&&')[1].split())/Token_level_label_count[i[1]]\n",
    "        elif i[2]=='Utterance level':\n",
    "            norm=len(i[3].split('&&&&')[1].split())/Utterance_level_label_count[i[1]]\n",
    "        else:\n",
    "            norm=-1\n",
    "        normal_list.append(norm)\n",
    "\n",
    "    data['normal']=normal_list\n",
    "    return data\n",
    "\n",
    "\n",
    "score_dict={'topic extension with clear new context':[5,'Y1'],\n",
    "           'topic extension under the previous direction':[4,'Y1'],\n",
    "           'topic extension with the same content':[3,'Y1'],\n",
    "            'repeat and no topic extension':[2,'Y1'],\n",
    "            'no topic extension and stop the topic at this point':[1,'Y1'],\n",
    "            \n",
    "            'overall tone choice: very informal':[5,'Y2'],\n",
    "           'overall tone choice: quite informal, but some expressions are still formal':[4,'Y2'],\n",
    "           'overall tone choice: quite formal and some expressions are not that formal':[3,'Y2'],\n",
    "            'overall tone choice: quite formal and some expressions are not that formal':[2,'Y2'],\n",
    "            'overall tone choice: very formal':[1,'Y2'],\n",
    "            \n",
    "            'Co1':[5,'Y3'],\n",
    "           'Co2':[4,'Y3'],\n",
    "           'Co3':[3,'Y3'],\n",
    "            'Co4':[2,'Y3'],\n",
    "            'Co5':[1,'Y3'],\n",
    "            \n",
    "           'Cc1':[5,'Y4'],\n",
    "           'Cc2':[4,'Y4'],\n",
    "           'Cc3':[3,'Y4'],\n",
    "            'Cc4':[2,'Y4'],\n",
    "            'Cc5':[1,'Y4'],\n",
    "            \n",
    "            'conversation opening':[3,'Y3'],\n",
    "            'onversation closing':[3,'Y4']\n",
    "           }"
   ]
  },
  {
   "cell_type": "code",
   "execution_count": 4,
   "metadata": {
    "ExecuteTime": {
     "end_time": "2024-06-16T23:37:00.333191Z",
     "start_time": "2024-06-16T23:36:58.674181Z"
    }
   },
   "outputs": [
    {
     "ename": "UnicodeDecodeError",
     "evalue": "'utf-8' codec can't decode byte 0xff in position 1096: invalid start byte",
     "output_type": "error",
     "traceback": [
      "\u001b[0;31m---------------------------------------------------------------------------\u001b[0m",
      "\u001b[0;31mUnicodeDecodeError\u001b[0m                        Traceback (most recent call last)",
      "\u001b[0;32m<ipython-input-4-9f0b4d2eadc2>\u001b[0m in \u001b[0;36m<module>\u001b[0;34m\u001b[0m\n\u001b[1;32m      3\u001b[0m \u001b[0;32mfor\u001b[0m \u001b[0mfile\u001b[0m \u001b[0;32min\u001b[0m \u001b[0mos\u001b[0m\u001b[0;34m.\u001b[0m\u001b[0mlistdir\u001b[0m\u001b[0;34m(\u001b[0m\u001b[0mdata_path\u001b[0m\u001b[0;34m)\u001b[0m\u001b[0;34m:\u001b[0m\u001b[0;34m\u001b[0m\u001b[0;34m\u001b[0m\u001b[0m\n\u001b[1;32m      4\u001b[0m     \u001b[0mfile_path\u001b[0m\u001b[0;34m=\u001b[0m\u001b[0mdata_path\u001b[0m\u001b[0;34m+\u001b[0m\u001b[0mfile\u001b[0m\u001b[0;34m\u001b[0m\u001b[0;34m\u001b[0m\u001b[0m\n\u001b[0;32m----> 5\u001b[0;31m     \u001b[0mdata_i\u001b[0m\u001b[0;34m=\u001b[0m\u001b[0mpd\u001b[0m\u001b[0;34m.\u001b[0m\u001b[0mread_csv\u001b[0m\u001b[0;34m(\u001b[0m\u001b[0mfile_path\u001b[0m\u001b[0;34m)\u001b[0m\u001b[0;34m\u001b[0m\u001b[0;34m\u001b[0m\u001b[0m\n\u001b[0m\u001b[1;32m      6\u001b[0m     \u001b[0mdata\u001b[0m\u001b[0;34m=\u001b[0m\u001b[0mpd\u001b[0m\u001b[0;34m.\u001b[0m\u001b[0mconcat\u001b[0m\u001b[0;34m(\u001b[0m\u001b[0;34m[\u001b[0m\u001b[0mdata\u001b[0m\u001b[0;34m,\u001b[0m\u001b[0mdata_i\u001b[0m\u001b[0;34m]\u001b[0m\u001b[0;34m)\u001b[0m\u001b[0;34m\u001b[0m\u001b[0;34m\u001b[0m\u001b[0m\n\u001b[1;32m      7\u001b[0m \u001b[0;34m\u001b[0m\u001b[0m\n",
      "\u001b[0;32m~/opt/anaconda3/lib/python3.7/site-packages/pandas/util/_decorators.py\u001b[0m in \u001b[0;36mwrapper\u001b[0;34m(*args, **kwargs)\u001b[0m\n\u001b[1;32m    309\u001b[0m                     \u001b[0mstacklevel\u001b[0m\u001b[0;34m=\u001b[0m\u001b[0mstacklevel\u001b[0m\u001b[0;34m,\u001b[0m\u001b[0;34m\u001b[0m\u001b[0;34m\u001b[0m\u001b[0m\n\u001b[1;32m    310\u001b[0m                 )\n\u001b[0;32m--> 311\u001b[0;31m             \u001b[0;32mreturn\u001b[0m \u001b[0mfunc\u001b[0m\u001b[0;34m(\u001b[0m\u001b[0;34m*\u001b[0m\u001b[0margs\u001b[0m\u001b[0;34m,\u001b[0m \u001b[0;34m**\u001b[0m\u001b[0mkwargs\u001b[0m\u001b[0;34m)\u001b[0m\u001b[0;34m\u001b[0m\u001b[0;34m\u001b[0m\u001b[0m\n\u001b[0m\u001b[1;32m    312\u001b[0m \u001b[0;34m\u001b[0m\u001b[0m\n\u001b[1;32m    313\u001b[0m         \u001b[0;32mreturn\u001b[0m \u001b[0mwrapper\u001b[0m\u001b[0;34m\u001b[0m\u001b[0;34m\u001b[0m\u001b[0m\n",
      "\u001b[0;32m~/opt/anaconda3/lib/python3.7/site-packages/pandas/io/parsers/readers.py\u001b[0m in \u001b[0;36mread_csv\u001b[0;34m(filepath_or_buffer, sep, delimiter, header, names, index_col, usecols, squeeze, prefix, mangle_dupe_cols, dtype, engine, converters, true_values, false_values, skipinitialspace, skiprows, skipfooter, nrows, na_values, keep_default_na, na_filter, verbose, skip_blank_lines, parse_dates, infer_datetime_format, keep_date_col, date_parser, dayfirst, cache_dates, iterator, chunksize, compression, thousands, decimal, lineterminator, quotechar, quoting, doublequote, escapechar, comment, encoding, encoding_errors, dialect, error_bad_lines, warn_bad_lines, on_bad_lines, delim_whitespace, low_memory, memory_map, float_precision, storage_options)\u001b[0m\n\u001b[1;32m    584\u001b[0m     \u001b[0mkwds\u001b[0m\u001b[0;34m.\u001b[0m\u001b[0mupdate\u001b[0m\u001b[0;34m(\u001b[0m\u001b[0mkwds_defaults\u001b[0m\u001b[0;34m)\u001b[0m\u001b[0;34m\u001b[0m\u001b[0;34m\u001b[0m\u001b[0m\n\u001b[1;32m    585\u001b[0m \u001b[0;34m\u001b[0m\u001b[0m\n\u001b[0;32m--> 586\u001b[0;31m     \u001b[0;32mreturn\u001b[0m \u001b[0m_read\u001b[0m\u001b[0;34m(\u001b[0m\u001b[0mfilepath_or_buffer\u001b[0m\u001b[0;34m,\u001b[0m \u001b[0mkwds\u001b[0m\u001b[0;34m)\u001b[0m\u001b[0;34m\u001b[0m\u001b[0;34m\u001b[0m\u001b[0m\n\u001b[0m\u001b[1;32m    587\u001b[0m \u001b[0;34m\u001b[0m\u001b[0m\n\u001b[1;32m    588\u001b[0m \u001b[0;34m\u001b[0m\u001b[0m\n",
      "\u001b[0;32m~/opt/anaconda3/lib/python3.7/site-packages/pandas/io/parsers/readers.py\u001b[0m in \u001b[0;36m_read\u001b[0;34m(filepath_or_buffer, kwds)\u001b[0m\n\u001b[1;32m    480\u001b[0m \u001b[0;34m\u001b[0m\u001b[0m\n\u001b[1;32m    481\u001b[0m     \u001b[0;31m# Create the parser.\u001b[0m\u001b[0;34m\u001b[0m\u001b[0;34m\u001b[0m\u001b[0;34m\u001b[0m\u001b[0m\n\u001b[0;32m--> 482\u001b[0;31m     \u001b[0mparser\u001b[0m \u001b[0;34m=\u001b[0m \u001b[0mTextFileReader\u001b[0m\u001b[0;34m(\u001b[0m\u001b[0mfilepath_or_buffer\u001b[0m\u001b[0;34m,\u001b[0m \u001b[0;34m**\u001b[0m\u001b[0mkwds\u001b[0m\u001b[0;34m)\u001b[0m\u001b[0;34m\u001b[0m\u001b[0;34m\u001b[0m\u001b[0m\n\u001b[0m\u001b[1;32m    483\u001b[0m \u001b[0;34m\u001b[0m\u001b[0m\n\u001b[1;32m    484\u001b[0m     \u001b[0;32mif\u001b[0m \u001b[0mchunksize\u001b[0m \u001b[0;32mor\u001b[0m \u001b[0miterator\u001b[0m\u001b[0;34m:\u001b[0m\u001b[0;34m\u001b[0m\u001b[0;34m\u001b[0m\u001b[0m\n",
      "\u001b[0;32m~/opt/anaconda3/lib/python3.7/site-packages/pandas/io/parsers/readers.py\u001b[0m in \u001b[0;36m__init__\u001b[0;34m(self, f, engine, **kwds)\u001b[0m\n\u001b[1;32m    809\u001b[0m             \u001b[0mself\u001b[0m\u001b[0;34m.\u001b[0m\u001b[0moptions\u001b[0m\u001b[0;34m[\u001b[0m\u001b[0;34m\"has_index_names\"\u001b[0m\u001b[0;34m]\u001b[0m \u001b[0;34m=\u001b[0m \u001b[0mkwds\u001b[0m\u001b[0;34m[\u001b[0m\u001b[0;34m\"has_index_names\"\u001b[0m\u001b[0;34m]\u001b[0m\u001b[0;34m\u001b[0m\u001b[0;34m\u001b[0m\u001b[0m\n\u001b[1;32m    810\u001b[0m \u001b[0;34m\u001b[0m\u001b[0m\n\u001b[0;32m--> 811\u001b[0;31m         \u001b[0mself\u001b[0m\u001b[0;34m.\u001b[0m\u001b[0m_engine\u001b[0m \u001b[0;34m=\u001b[0m \u001b[0mself\u001b[0m\u001b[0;34m.\u001b[0m\u001b[0m_make_engine\u001b[0m\u001b[0;34m(\u001b[0m\u001b[0mself\u001b[0m\u001b[0;34m.\u001b[0m\u001b[0mengine\u001b[0m\u001b[0;34m)\u001b[0m\u001b[0;34m\u001b[0m\u001b[0;34m\u001b[0m\u001b[0m\n\u001b[0m\u001b[1;32m    812\u001b[0m \u001b[0;34m\u001b[0m\u001b[0m\n\u001b[1;32m    813\u001b[0m     \u001b[0;32mdef\u001b[0m \u001b[0mclose\u001b[0m\u001b[0;34m(\u001b[0m\u001b[0mself\u001b[0m\u001b[0;34m)\u001b[0m\u001b[0;34m:\u001b[0m\u001b[0;34m\u001b[0m\u001b[0;34m\u001b[0m\u001b[0m\n",
      "\u001b[0;32m~/opt/anaconda3/lib/python3.7/site-packages/pandas/io/parsers/readers.py\u001b[0m in \u001b[0;36m_make_engine\u001b[0;34m(self, engine)\u001b[0m\n\u001b[1;32m   1038\u001b[0m             )\n\u001b[1;32m   1039\u001b[0m         \u001b[0;31m# error: Too many arguments for \"ParserBase\"\u001b[0m\u001b[0;34m\u001b[0m\u001b[0;34m\u001b[0m\u001b[0;34m\u001b[0m\u001b[0m\n\u001b[0;32m-> 1040\u001b[0;31m         \u001b[0;32mreturn\u001b[0m \u001b[0mmapping\u001b[0m\u001b[0;34m[\u001b[0m\u001b[0mengine\u001b[0m\u001b[0;34m]\u001b[0m\u001b[0;34m(\u001b[0m\u001b[0mself\u001b[0m\u001b[0;34m.\u001b[0m\u001b[0mf\u001b[0m\u001b[0;34m,\u001b[0m \u001b[0;34m**\u001b[0m\u001b[0mself\u001b[0m\u001b[0;34m.\u001b[0m\u001b[0moptions\u001b[0m\u001b[0;34m)\u001b[0m  \u001b[0;31m# type: ignore[call-arg]\u001b[0m\u001b[0;34m\u001b[0m\u001b[0;34m\u001b[0m\u001b[0m\n\u001b[0m\u001b[1;32m   1041\u001b[0m \u001b[0;34m\u001b[0m\u001b[0m\n\u001b[1;32m   1042\u001b[0m     \u001b[0;32mdef\u001b[0m \u001b[0m_failover_to_python\u001b[0m\u001b[0;34m(\u001b[0m\u001b[0mself\u001b[0m\u001b[0;34m)\u001b[0m\u001b[0;34m:\u001b[0m\u001b[0;34m\u001b[0m\u001b[0;34m\u001b[0m\u001b[0m\n",
      "\u001b[0;32m~/opt/anaconda3/lib/python3.7/site-packages/pandas/io/parsers/c_parser_wrapper.py\u001b[0m in \u001b[0;36m__init__\u001b[0;34m(self, src, **kwds)\u001b[0m\n\u001b[1;32m     67\u001b[0m         \u001b[0mkwds\u001b[0m\u001b[0;34m[\u001b[0m\u001b[0;34m\"dtype\"\u001b[0m\u001b[0;34m]\u001b[0m \u001b[0;34m=\u001b[0m \u001b[0mensure_dtype_objs\u001b[0m\u001b[0;34m(\u001b[0m\u001b[0mkwds\u001b[0m\u001b[0;34m.\u001b[0m\u001b[0mget\u001b[0m\u001b[0;34m(\u001b[0m\u001b[0;34m\"dtype\"\u001b[0m\u001b[0;34m,\u001b[0m \u001b[0;32mNone\u001b[0m\u001b[0;34m)\u001b[0m\u001b[0;34m)\u001b[0m\u001b[0;34m\u001b[0m\u001b[0;34m\u001b[0m\u001b[0m\n\u001b[1;32m     68\u001b[0m         \u001b[0;32mtry\u001b[0m\u001b[0;34m:\u001b[0m\u001b[0;34m\u001b[0m\u001b[0;34m\u001b[0m\u001b[0m\n\u001b[0;32m---> 69\u001b[0;31m             \u001b[0mself\u001b[0m\u001b[0;34m.\u001b[0m\u001b[0m_reader\u001b[0m \u001b[0;34m=\u001b[0m \u001b[0mparsers\u001b[0m\u001b[0;34m.\u001b[0m\u001b[0mTextReader\u001b[0m\u001b[0;34m(\u001b[0m\u001b[0mself\u001b[0m\u001b[0;34m.\u001b[0m\u001b[0mhandles\u001b[0m\u001b[0;34m.\u001b[0m\u001b[0mhandle\u001b[0m\u001b[0;34m,\u001b[0m \u001b[0;34m**\u001b[0m\u001b[0mkwds\u001b[0m\u001b[0;34m)\u001b[0m\u001b[0;34m\u001b[0m\u001b[0;34m\u001b[0m\u001b[0m\n\u001b[0m\u001b[1;32m     70\u001b[0m         \u001b[0;32mexcept\u001b[0m \u001b[0mException\u001b[0m\u001b[0;34m:\u001b[0m\u001b[0;34m\u001b[0m\u001b[0;34m\u001b[0m\u001b[0m\n\u001b[1;32m     71\u001b[0m             \u001b[0mself\u001b[0m\u001b[0;34m.\u001b[0m\u001b[0mhandles\u001b[0m\u001b[0;34m.\u001b[0m\u001b[0mclose\u001b[0m\u001b[0;34m(\u001b[0m\u001b[0;34m)\u001b[0m\u001b[0;34m\u001b[0m\u001b[0;34m\u001b[0m\u001b[0m\n",
      "\u001b[0;32m~/opt/anaconda3/lib/python3.7/site-packages/pandas/_libs/parsers.pyx\u001b[0m in \u001b[0;36mpandas._libs.parsers.TextReader.__cinit__\u001b[0;34m()\u001b[0m\n",
      "\u001b[0;32m~/opt/anaconda3/lib/python3.7/site-packages/pandas/_libs/parsers.pyx\u001b[0m in \u001b[0;36mpandas._libs.parsers.TextReader._get_header\u001b[0;34m()\u001b[0m\n",
      "\u001b[0;32m~/opt/anaconda3/lib/python3.7/site-packages/pandas/_libs/parsers.pyx\u001b[0m in \u001b[0;36mpandas._libs.parsers.TextReader._tokenize_rows\u001b[0;34m()\u001b[0m\n",
      "\u001b[0;32m~/opt/anaconda3/lib/python3.7/site-packages/pandas/_libs/parsers.pyx\u001b[0m in \u001b[0;36mpandas._libs.parsers.raise_parser_error\u001b[0;34m()\u001b[0m\n",
      "\u001b[0;31mUnicodeDecodeError\u001b[0m: 'utf-8' codec can't decode byte 0xff in position 1096: invalid start byte"
     ]
    }
   ],
   "source": [
    "data_path='./data_csv_sample/'\n",
    "data=pd.DataFrame({})\n",
    "for file in os.listdir(data_path):\n",
    "    file_path=data_path+file\n",
    "    data_i=pd.read_csv(file_path)\n",
    "    data=pd.concat([data,data_i])\n",
    "    \n",
    "    \n",
    "new_labellevel=[]\n",
    "for i in data.values:\n",
    "    _,i_label,i_labellevel,_=i\n",
    "    if i_labellevel=='Unknown':\n",
    "        if i_label=='adjectives/ adverbs expressing possibility':\n",
    "            new_v='Utterance level'\n",
    "        else:\n",
    "            new_v='Dialogue level'\n",
    "    else:\n",
    "        new_v=i_labellevel\n",
    "        \n",
    "    new_labellevel.append(new_v)\n",
    "    \n",
    "data['LabelLevel']=new_labellevel\n",
    "# data['LabelLevel']=data['LabelLevel'].apply(transform)\n",
    "data.index=range(len(data))"
   ]
  },
  {
   "cell_type": "code",
   "execution_count": null,
   "metadata": {
    "ExecuteTime": {
     "end_time": "2024-06-16T23:37:00.360839Z",
     "start_time": "2024-06-16T23:36:38.334Z"
    }
   },
   "outputs": [],
   "source": [
    "#=============统计频次============\n",
    "Token_level=data[data['LabelLevel']=='Token level']\n",
    "Token_level_label_count=collections.Counter(Token_level['Label'])\n",
    "\n",
    "Utterance_level=data[data['LabelLevel']=='Utterance level']\n",
    "Utterance_level_label_count=collections.Counter(Utterance_level['Label'])\n",
    "\n",
    "Dialogue_level=data[data['LabelLevel']=='Dialogue level']\n",
    "Dialogue_level_label_count=collections.Counter(Dialogue_level['Label'])\n",
    "\n",
    "print(len(Utterance_level_label_count)+len(Token_level_label_count))\n",
    "valid_keys_list=list(Utterance_level_label_count.keys())+list(Token_level_label_count.keys())"
   ]
  },
  {
   "cell_type": "code",
   "execution_count": null,
   "metadata": {
    "ExecuteTime": {
     "end_time": "2024-06-16T23:37:00.372985Z",
     "start_time": "2024-06-16T23:36:48.559Z"
    }
   },
   "outputs": [],
   "source": [
    "all_people_df=pd.DataFrame({})\n",
    "all_labels_df=pd.DataFrame({})\n",
    "all_classs_df=pd.DataFrame({})\n",
    "for index in range(0,len(data),10):\n",
    "    index_data=data[index:index+10]\n",
    "    index_data['word_num']=[len(i.split('&&&&')[1].split()) for i in index_data['Content']]#统计各句子的特殊符号之间的word数\n",
    "    \n",
    "    #===========================================================提取feature=================\n",
    "    #===========统计每一个Label对应的平均词汇数============\n",
    "    test_feature={}\n",
    "    for label in index_data['Label'].unique():\n",
    "        index_data_label=index_data[index_data['Label']==label]\n",
    "        index_data_label_1=pd.DataFrame([collections.Counter(index_data_label['word_num'])],index=[label])/len(index_data_label)\n",
    "        test_feature[label]=sum(np.array(index_data_label_1.columns)*index_data_label_1.values[0])/(index_data_label_1.sum().sum())\n",
    "    test_feature=pd.DataFrame([test_feature],index=[index])\n",
    "    all_people_df=pd.concat([all_people_df,test_feature])#===========特征矩阵\n",
    "    \n",
    "    #===========================================================提取score=================\n",
    "    #===========查表获取分数===========\n",
    "    new_score_list=[]\n",
    "    for label in index_data['Label']:\n",
    "        if label in score_dict:\n",
    "            new_score=score_dict[label]\n",
    "        else:\n",
    "            new_score=[None,None]\n",
    "        new_score_list.append(new_score)\n",
    "    index_data[['score','type']]=new_score_list\n",
    "\n",
    "    #============求取平均分数=============\n",
    "    type_score={}\n",
    "    type_class={}\n",
    "    for type_ in ['Y1','Y2','Y3','Y4']:\n",
    "        type_data=index_data[index_data['type']==type_]\n",
    "        if len(type_data)==0:\n",
    "            type_score[type_]=3\n",
    "        else:\n",
    "            type_score[type_]=index_data['score'].mean()\n",
    "            \n",
    "        type_data_big3=type_data[type_data['score']>3]\n",
    "        type_data_sma3=type_data[type_data['score']<3]\n",
    "        if len(type_data_big3)+len(type_data_sma3)==0:\n",
    "            type_class[type_]=3\n",
    "        else:\n",
    "            if len(type_data_sma3)>0:\n",
    "                type_data_sma3=type_data_sma3.sort_values(by=['score','word_num'])\n",
    "                type_data_sma3_s=type_data_sma3.values[0,-2]\n",
    "                type_data_sma3=type_data_sma3[type_data_sma3['score']==type_data_sma3_s]\n",
    "                type_data_sma3_w=type_data_sma3.values[-1,-3]\n",
    "                type_data_sma3=type_data_sma3[type_data_sma3['word_num']==type_data_sma3_w]\n",
    "            if len(type_data_big3)>0:\n",
    "                type_data_big3=type_data_big3.sort_values(by=['score','word_num'])\n",
    "                type_data_big3_s=type_data_big3.values[-1,-2]\n",
    "                type_data_big3=type_data_big3[type_data_big3['score']==type_data_big3_s]\n",
    "                type_data_big3_w=type_data_big3.values[-1,-3]\n",
    "                type_data_big3=type_data_big3[type_data_big3['word_num']==type_data_big3_w]\n",
    "            type_data_concat=pd.concat([type_data_sma3,type_data_big3])\n",
    "            type_data_concat=type_data_concat.sort_values(by=['word_num'])\n",
    "            type_data_concat_s=int(type_data_concat.values[-1,-2])\n",
    "            type_class[type_]=type_data_concat_s\n",
    "\n",
    "\n",
    "    type_score_df=pd.DataFrame([type_score],index=[index])\n",
    "    all_labels_df=pd.concat([all_labels_df,type_score_df])#===========分数矩阵\n",
    "    \n",
    "    \n",
    "    \n",
    "    type_class_df=pd.DataFrame([type_class],index=[index])\n",
    "    all_classs_df=pd.concat([all_classs_df,type_class_df])#===========分数矩阵\n",
    "\n",
    "data_x=all_people_df[valid_keys_list]\n",
    "data_x=data_x.fillna(0)\n",
    "data_y=all_labels_df.copy()\n",
    "\n",
    "columns_list=[]\n",
    "for i in range(1,5):\n",
    "    for j in range(1,6):\n",
    "        columns_list.append(f'Y{i}_{j}')\n",
    "\n",
    "data_class=all_classs_df.copy()"
   ]
  },
  {
   "cell_type": "code",
   "execution_count": null,
   "metadata": {
    "ExecuteTime": {
     "end_time": "2024-06-16T23:37:00.548987Z",
     "start_time": "2024-06-16T23:36:50.608Z"
    }
   },
   "outputs": [],
   "source": [
    "train_x,test_x,train_y,test_y,train_c,test_c=train_test_split(data_x,data_y,data_class,train_size=0.8)\n",
    "train_x_normal=(train_x-train_x.mean())/train_x.std()\n",
    "test_x_normal=(test_x-train_x.mean())/train_x.std()"
   ]
  },
  {
   "cell_type": "code",
   "execution_count": null,
   "metadata": {
    "ExecuteTime": {
     "end_time": "2024-06-16T23:37:00.596309Z",
     "start_time": "2024-06-16T23:36:51.219Z"
    }
   },
   "outputs": [],
   "source": [
    "train_x_normal.isna().sum().sum(),test_x_normal.isna().sum().sum()"
   ]
  },
  {
   "cell_type": "code",
   "execution_count": 8,
   "metadata": {},
   "outputs": [],
   "source": [
    "topk=10"
   ]
  },
  {
   "cell_type": "code",
   "execution_count": 9,
   "metadata": {},
   "outputs": [],
   "source": [
    "def save_csv(data,path):\n",
    "    data.to_csv(f'./{path}.csv',encoding='utf_8_sig')"
   ]
  },
  {
   "cell_type": "markdown",
   "metadata": {},
   "source": [
    "# Task1"
   ]
  },
  {
   "cell_type": "code",
   "execution_count": 10,
   "metadata": {},
   "outputs": [],
   "source": [
    "model_dict={'Linear':LinearRegression(),'Logit':LogisticRegression(),\n",
    "           'RF_R':RandomForestRegressor(),'RF_C':RandomForestClassifier(),\n",
    "           'NB_R':BayesianRidge(),'NB_C':BernoulliNB()}"
   ]
  },
  {
   "cell_type": "code",
   "execution_count": 11,
   "metadata": {
    "scrolled": true
   },
   "outputs": [],
   "source": [
    "def get_all_result(train_x_normal,train_y,test_x_normal,test_y,model_name):\n",
    "    global model\n",
    "    test_pred_dict={}\n",
    "    test_true_dict={}\n",
    "    train_pred_dict={}\n",
    "    train_true_dict={}\n",
    "    train_result_linear={}\n",
    "    test_result_linear={}\n",
    "    model_infortance=pd.DataFrame({})\n",
    "    for co in train_y.columns:\n",
    "        train_true=train_y[co]\n",
    "        test_true=test_y[co]\n",
    "        model=model_dict[model_name]\n",
    "        model.fit(train_x_normal,train_true)#训练\n",
    "\n",
    "        train_pred=model.predict(train_x_normal)#预测\n",
    "        test_pred=model.predict(test_x_normal)\n",
    "\n",
    "        #整理\n",
    "        if len(train_pred)==1:\n",
    "            train_pred_dict[co]=train_pred\n",
    "            test_pred_dict[co]=test_pred\n",
    "        else:\n",
    "            train_pred_dict[co]=train_pred[0]\n",
    "            test_pred_dict[co]=test_pred[0]\n",
    "        train_true_dict[co]=train_true\n",
    "        test_true_dict[co]=test_true\n",
    "\n",
    "        if model_name in ['Linear','NB_R','RF_R']:\n",
    "            result_func=get_result_2\n",
    "            metrics_list=['mae','mse','mape','r2']\n",
    "        else:\n",
    "            result_func=get_result\n",
    "            metrics_list=['acc','pre','rec','f1s']\n",
    "        train_result_linear[co]=result_func(train_true,train_pred)#评估\n",
    "        test_result_linear[co]=result_func(test_true,test_pred)\n",
    "\n",
    "        #--------得到重要度---------\n",
    "        importance=None\n",
    "        if model_name in ['Linear','NB_R']:\n",
    "            importance=pd.DataFrame(model.coef_,index=model.feature_names_in_,columns=[co])\n",
    "        elif model_name in ['RF_C','RF_R']:\n",
    "            importance=pd.DataFrame(model.feature_importances_,index=model.feature_names_in_,columns=[co])\n",
    "        elif model_name in ['Logit','NB_C']:\n",
    "            importance=pd.DataFrame(model.coef_[0],index=model.feature_names_in_,columns=[co])\n",
    "        \n",
    "        importance_=abs(importance)\n",
    "        importance_=importance_.sort_values(by=[co])\n",
    "        importance=importance.loc[importance_[-topk:].index]\n",
    "        model_infortance=pd.concat([model_infortance,importance],axis=1)\n",
    "\n",
    "    train_result=pd.DataFrame(train_result_linear,index=metrics_list)\n",
    "    test_result=pd.DataFrame(test_result_linear,index=metrics_list)\n",
    "    test_pred_df=pd.DataFrame(test_pred_dict,index=test_y.index)\n",
    "    test_true_df=pd.DataFrame(test_true_dict,index=test_y.index)\n",
    "    train_pred_df=pd.DataFrame(train_pred_dict,index=train_y.index)\n",
    "    train_true_df=pd.DataFrame(train_true_dict,index=train_y.index)\n",
    "    return [train_result,test_result],[test_true_df,test_pred_df],[train_true_df,train_pred_df],model_infortance"
   ]
  },
  {
   "cell_type": "code",
   "execution_count": 12,
   "metadata": {
    "scrolled": true
   },
   "outputs": [
    {
     "data": {
      "text/plain": [
       "(                                                  Y1        Y2        Y3  \\\n",
       " reference word                              0.044963       NaN  0.017658   \n",
       " epistemic copulas                          -0.051234  0.065111  0.012456   \n",
       " negotiation of meaning                      0.055360 -0.049189  0.020479   \n",
       " adjectives/ adverbs expressing possibility  0.057334       NaN  0.019268   \n",
       " routinized resources                        0.063352 -0.121988  0.012298   \n",
       " epistemic modals                            0.064683       NaN -0.018232   \n",
       " question-based responses                    0.072447       NaN       NaN   \n",
       " impersonal subject + non-factive verb + NP  0.107434 -0.040673       NaN   \n",
       " collaborative finishes                     -0.135893 -0.096509 -0.014633   \n",
       " tense choice to indicate interactive aims   0.221198  0.074357       NaN   \n",
       " non-factive verb phrase structure                NaN -0.036543       NaN   \n",
       " noun & verb collocation in proper form           NaN -0.046769       NaN   \n",
       " code-switching for communicative purposes        NaN -0.064651 -0.016774   \n",
       " subordinate clauses                              NaN  0.111451 -0.021369   \n",
       " feedback in the next turn                        NaN       NaN -0.013385   \n",
       " backchannels                                     NaN       NaN       NaN   \n",
       " \n",
       "                                                   Y4  \n",
       " reference word                              0.024047  \n",
       " epistemic copulas                          -0.016717  \n",
       " negotiation of meaning                           NaN  \n",
       " adjectives/ adverbs expressing possibility  0.006667  \n",
       " routinized resources                             NaN  \n",
       " epistemic modals                                 NaN  \n",
       " question-based responses                    0.007233  \n",
       " impersonal subject + non-factive verb + NP  0.009628  \n",
       " collaborative finishes                     -0.038698  \n",
       " tense choice to indicate interactive aims        NaN  \n",
       " non-factive verb phrase structure           0.006486  \n",
       " noun & verb collocation in proper form      0.015187  \n",
       " code-switching for communicative purposes  -0.013097  \n",
       " subordinate clauses                              NaN  \n",
       " feedback in the next turn                        NaN  \n",
       " backchannels                                0.008864  ,\n",
       " [            Y1        Y2        Y3        Y4\n",
       "  mae   0.397880  0.338777  0.110777  0.079946\n",
       "  mse   0.367561  0.355176  0.095169  0.055226\n",
       "  mape  0.137079  0.152893  0.045835  0.035257\n",
       "  r2    0.198383  0.130442  0.029232  0.052213,\n",
       "              Y1        Y2        Y3        Y4\n",
       "  mae   0.410616  0.391077  0.053275  0.036813\n",
       "  mse   0.483017  0.346970  0.007017  0.005073\n",
       "  mape  0.139760  0.139554  0.017383  0.012271\n",
       "  r2   -0.645251 -0.448058 -0.799285  0.000000])"
      ]
     },
     "execution_count": 12,
     "metadata": {},
     "output_type": "execute_result"
    }
   ],
   "source": [
    "#================Linear===========\n",
    "model_name='Linear'\n",
    "result,test_true_pred,train_true_pred,importance=get_all_result(train_x_normal,train_y,\n",
    "                                                                test_x_normal,test_y,\n",
    "                                                                model_name)\n",
    "importance,result"
   ]
  },
  {
   "cell_type": "code",
   "execution_count": 13,
   "metadata": {
    "scrolled": true
   },
   "outputs": [
    {
     "data": {
      "text/plain": [
       "(                                                  Y1        Y2        Y3  \\\n",
       " subordinate clauses                         0.049660  0.077255  0.094277   \n",
       " negotiation of meaning                      0.058192  0.080621  0.055193   \n",
       " epistemic modals                            0.059156       NaN       NaN   \n",
       " adjectives/ adverbs expressing possibility  0.062888  0.131648       NaN   \n",
       " feedback in the next turn                   0.071252  0.130809  0.133878   \n",
       " question-based responses                    0.080138       NaN  0.079582   \n",
       " noun & verb collocation in proper form      0.089041  0.046603  0.059381   \n",
       " impersonal subject + non-factive verb + NP  0.097746       NaN       NaN   \n",
       " reference word                              0.103224  0.053728       NaN   \n",
       " tense choice to indicate interactive aims   0.149270  0.086987       NaN   \n",
       " backchannels                                     NaN  0.069469  0.048236   \n",
       " formulaic responses                              NaN  0.072912  0.076170   \n",
       " routinized resources                             NaN  0.095124  0.130941   \n",
       " code-switching for communicative purposes        NaN       NaN  0.072500   \n",
       " epistemic copulas                                NaN       NaN  0.133097   \n",
       " collaborative finishes                           NaN       NaN       NaN   \n",
       " \n",
       "                                                   Y4  \n",
       " subordinate clauses                         0.071265  \n",
       " negotiation of meaning                      0.073332  \n",
       " epistemic modals                                 NaN  \n",
       " adjectives/ adverbs expressing possibility  0.040765  \n",
       " feedback in the next turn                        NaN  \n",
       " question-based responses                         NaN  \n",
       " noun & verb collocation in proper form      0.059190  \n",
       " impersonal subject + non-factive verb + NP       NaN  \n",
       " reference word                              0.049968  \n",
       " tense choice to indicate interactive aims        NaN  \n",
       " backchannels                                0.081101  \n",
       " formulaic responses                              NaN  \n",
       " routinized resources                        0.251962  \n",
       " code-switching for communicative purposes   0.123963  \n",
       " epistemic copulas                           0.068314  \n",
       " collaborative finishes                      0.079442  ,\n",
       "             Y1        Y2        Y3        Y4\n",
       " mae   0.419985  0.363894  0.056818  0.064574\n",
       " mse   0.399185  0.385766  0.010211  0.020806\n",
       " mape  0.146188  0.134208  0.018580  0.021525\n",
       " r2   -0.359703 -0.609972 -1.618305  0.000000)"
      ]
     },
     "execution_count": 13,
     "metadata": {},
     "output_type": "execute_result"
    }
   ],
   "source": [
    "#=================RF===============\n",
    "model_name='RF_R'\n",
    "result,test_true_pred,train_true_pred,importance=get_all_result(train_x_normal,train_y,\n",
    "                                                                test_x_normal,test_y,\n",
    "                                                                model_name)\n",
    "importance,result[1]"
   ]
  },
  {
   "cell_type": "code",
   "execution_count": 14,
   "metadata": {
    "scrolled": true
   },
   "outputs": [
    {
     "data": {
      "text/plain": [
       "(                                                  Y1        Y2        Y3  \\\n",
       " routinized resources                        0.025668 -0.018018       NaN   \n",
       " negotiation of meaning                      0.026483 -0.012596  0.000272   \n",
       " reference word                              0.030029       NaN  0.000249   \n",
       " epistemic modals                            0.033496       NaN -0.000225   \n",
       " question-based responses                    0.034166       NaN       NaN   \n",
       " adjectives/ adverbs expressing possibility  0.035766       NaN  0.000273   \n",
       " backchannels                               -0.036000       NaN -0.000260   \n",
       " impersonal subject + non-factive verb + NP  0.052081 -0.008705       NaN   \n",
       " collaborative finishes                     -0.053656 -0.012550 -0.000283   \n",
       " tense choice to indicate interactive aims   0.098444  0.011136       NaN   \n",
       " formulaic responses                              NaN  0.005335       NaN   \n",
       " noun & verb collocation in proper form           NaN -0.007366       NaN   \n",
       " epistemic copulas                                NaN  0.008438  0.000219   \n",
       " code-switching for communicative purposes        NaN -0.013241 -0.000254   \n",
       " subordinate clauses                              NaN  0.019524 -0.000367   \n",
       " feedback in the next turn                        NaN       NaN -0.000219   \n",
       " \n",
       "                                                   Y4  \n",
       " routinized resources                             NaN  \n",
       " negotiation of meaning                     -0.000080  \n",
       " reference word                              0.000789  \n",
       " epistemic modals                           -0.000095  \n",
       " question-based responses                         NaN  \n",
       " adjectives/ adverbs expressing possibility       NaN  \n",
       " backchannels                               -0.000118  \n",
       " impersonal subject + non-factive verb + NP       NaN  \n",
       " collaborative finishes                     -0.000980  \n",
       " tense choice to indicate interactive aims        NaN  \n",
       " formulaic responses                         0.000108  \n",
       " noun & verb collocation in proper form      0.000582  \n",
       " epistemic copulas                          -0.000465  \n",
       " code-switching for communicative purposes  -0.000361  \n",
       " subordinate clauses                         0.000116  \n",
       " feedback in the next turn                        NaN  ,\n",
       "             Y1        Y2        Y3        Y4\n",
       " mae   0.318438  0.240828  0.012695  0.009897\n",
       " mse   0.349616  0.247975  0.003938  0.000102\n",
       " mape  0.109566  0.087539  0.003843  0.003299\n",
       " r2   -0.190861 -0.034909 -0.009761  0.000000)"
      ]
     },
     "execution_count": 14,
     "metadata": {},
     "output_type": "execute_result"
    }
   ],
   "source": [
    "#=================RF===============\n",
    "model_name='NB_R'\n",
    "result,test_true_pred,train_true_pred,importance=get_all_result(train_x_normal,train_y,\n",
    "                                                                test_x_normal,test_y,\n",
    "                                                                model_name)\n",
    "importance,result[1]"
   ]
  },
  {
   "cell_type": "code",
   "execution_count": 15,
   "metadata": {},
   "outputs": [],
   "source": [
    "#===============BP网络=============\n",
    "def get_model_R(input_dim,output_dim):\n",
    "    inputs=tf.keras.layers.Input(shape=(input_dim,))\n",
    "    dense=tf.keras.layers.Dense(64,activation='relu')(inputs)\n",
    "    dense=tf.keras.layers.Dense(64,activation='relu')(dense)\n",
    "    outputs=tf.keras.layers.Dense(output_dim,activation='sigmoid')(dense)\n",
    "\n",
    "    model=tf.keras.models.Model(inputs,outputs)\n",
    "    model.compile(optimizer='adam',loss='mse')\n",
    "    return model\n",
    "\n",
    "def get_model_C(input_dim,output_dim):\n",
    "    inputs=tf.keras.layers.Input(shape=(input_dim,))\n",
    "    dense=tf.keras.layers.Dense(64,activation='relu')(inputs)\n",
    "    dense=tf.keras.layers.Dense(64,activation='relu')(dense)\n",
    "    outputs=tf.keras.layers.Dense(5,activation='softmax')(dense)\n",
    "\n",
    "    model=tf.keras.models.Model(inputs,outputs)\n",
    "    model.compile(optimizer='adam',loss='sparse_categorical_crossentropy')\n",
    "    return model"
   ]
  },
  {
   "cell_type": "code",
   "execution_count": 16,
   "metadata": {
    "scrolled": true
   },
   "outputs": [],
   "source": [
    "def get_BP_result(train_x_normal,train_y,test_x_normal,test_y,model_name):\n",
    "    input_dim=train_x_normal.shape[1]\n",
    "    output_dim=train_y.shape[1]\n",
    "\n",
    "    if model_name=='BP_R':\n",
    "        train_y_normal=train_y/5\n",
    "        model_bp=get_model_R(input_dim,output_dim)\n",
    "    else:\n",
    "        train_y_normal=train_y.copy()\n",
    "        model_bp=get_model_C(input_dim,output_dim)\n",
    "\n",
    "    stopearly=tf.keras.callbacks.EarlyStopping(patience=10,restore_best_weights=True,monitor='val_loss')\n",
    "    history=model_bp.fit(train_x_normal,train_y_normal,\n",
    "                         validation_split=0.1,batch_size=16,\n",
    "                         epochs=100,callbacks=[stopearly],verbose=0)\n",
    "\n",
    "    test_pred_bp=model_bp.predict(test_x_normal)\n",
    "    train_pred_bp=model_bp.predict(train_x_normal)\n",
    "\n",
    "    if model_name=='BP_R':\n",
    "        test_pred_bp=test_pred_bp*5\n",
    "        train_pred_bp=train_pred_bp*5\n",
    "    else:\n",
    "        train_pred_bp=(train_pred_bp>=0.5).astype(int)\n",
    "        test_pred_bp=(test_pred_bp>=0.5).astype(int)\n",
    "\n",
    "    test_pred_bp=pd.DataFrame(test_pred_bp,index=test_y.index,columns=test_y.columns)\n",
    "    test_true_bp=test_y.copy()\n",
    "    train_pred_bp=pd.DataFrame(train_pred_bp,index=train_y.index,columns=train_y.columns)\n",
    "    train_true_bp=train_y.copy()\n",
    "\n",
    "    train_result_dict={}\n",
    "    test_result_dict={}\n",
    "\n",
    "    if model_name in ['BP_R']:\n",
    "        result_func=get_result_2\n",
    "        metrics_list=['mae','mse','mape','r2']\n",
    "    else:\n",
    "        result_func=get_result\n",
    "        metrics_list=['acc','pre','rec','f1s']\n",
    "\n",
    "    for co in train_pred_bp.columns:\n",
    "        true_train=train_true_bp[co]\n",
    "        pred_train=train_pred_bp[co]\n",
    "        true_test=test_true_bp[co]\n",
    "        pred_test=test_pred_bp[co]\n",
    "\n",
    "        result_train=result_func(true_train,pred_train)\n",
    "        result_test=result_func(true_test,pred_test)\n",
    "        train_result_dict[co]=result_train\n",
    "        test_result_dict[co]=result_test\n",
    "\n",
    "    train_result=pd.DataFrame(train_result_dict,index=metrics_list)\n",
    "    test_result=pd.DataFrame(test_result_dict,index=metrics_list)\n",
    "    model_infortance=None\n",
    "    return [train_result,test_result],[test_true_bp,test_pred_bp],[train_true_bp,train_pred_bp],model_infortance"
   ]
  },
  {
   "cell_type": "code",
   "execution_count": 17,
   "metadata": {
    "scrolled": true
   },
   "outputs": [
    {
     "name": "stdout",
     "output_type": "stream",
     "text": [
      "2/2 [==============================] - 0s 2ms/step\n",
      "5/5 [==============================] - 0s 928us/step\n"
     ]
    },
    {
     "data": {
      "text/plain": [
       "[            Y1        Y2        Y3        Y4\n",
       " mae   0.455117  0.339253  0.184522  0.170859\n",
       " mse   0.425661  0.325621  0.108510  0.088346\n",
       " mape  0.155459  0.148770  0.070822  0.065814\n",
       " r2    0.071672  0.202801 -0.106851 -0.516190,\n",
       "             Y1        Y2         Y3        Y4\n",
       " mae   0.435810  0.434854   0.197929  0.177816\n",
       " mse   0.421643  0.400226   0.073931  0.053570\n",
       " mape  0.148181  0.155865   0.064977  0.059272\n",
       " r2   -0.436197 -0.670321 -17.956649  0.000000]"
      ]
     },
     "execution_count": 17,
     "metadata": {},
     "output_type": "execute_result"
    }
   ],
   "source": [
    "model_name='BP_R'\n",
    "result,test_true_pred,train_true_pred,importance=get_BP_result(train_x_normal,train_y,\n",
    "                                                               test_x_normal,test_y,model_name)\n",
    "result"
   ]
  },
  {
   "cell_type": "markdown",
   "metadata": {},
   "source": [
    "# Task2"
   ]
  },
  {
   "cell_type": "code",
   "execution_count": 46,
   "metadata": {},
   "outputs": [],
   "source": [
    "task_2_importanc={}\n",
    "task_2_test_true_pred={}\n",
    "task_2_train_true_pred={}"
   ]
  },
  {
   "cell_type": "code",
   "execution_count": 23,
   "metadata": {},
   "outputs": [],
   "source": [
    "def get_result(test_y,test_pred):\n",
    "    acc=metrics.accuracy_score(test_y,test_pred)\n",
    "    pre=metrics.precision_score(test_y,test_pred,average='weighted')\n",
    "    rec=metrics.recall_score(test_y,test_pred,average='weighted')\n",
    "    f1s=metrics.f1_score(test_y,test_pred,average='weighted')\n",
    "    return [acc,pre,rec,f1s]"
   ]
  },
  {
   "cell_type": "code",
   "execution_count": 47,
   "metadata": {
    "scrolled": true
   },
   "outputs": [
    {
     "name": "stderr",
     "output_type": "stream",
     "text": [
      "D:\\ANACONDA\\lib\\site-packages\\sklearn\\metrics\\_classification.py:1318: UndefinedMetricWarning: Precision is ill-defined and being set to 0.0 in labels with no predicted samples. Use `zero_division` parameter to control this behavior.\n",
      "  _warn_prf(average, modifier, msg_start, len(result))\n",
      "D:\\ANACONDA\\lib\\site-packages\\sklearn\\metrics\\_classification.py:1318: UndefinedMetricWarning: Precision is ill-defined and being set to 0.0 in labels with no predicted samples. Use `zero_division` parameter to control this behavior.\n",
      "  _warn_prf(average, modifier, msg_start, len(result))\n",
      "D:\\ANACONDA\\lib\\site-packages\\sklearn\\metrics\\_classification.py:1318: UndefinedMetricWarning: Recall is ill-defined and being set to 0.0 in labels with no true samples. Use `zero_division` parameter to control this behavior.\n",
      "  _warn_prf(average, modifier, msg_start, len(result))\n",
      "D:\\ANACONDA\\lib\\site-packages\\sklearn\\metrics\\_classification.py:1318: UndefinedMetricWarning: Precision is ill-defined and being set to 0.0 in labels with no predicted samples. Use `zero_division` parameter to control this behavior.\n",
      "  _warn_prf(average, modifier, msg_start, len(result))\n",
      "D:\\ANACONDA\\lib\\site-packages\\sklearn\\metrics\\_classification.py:1318: UndefinedMetricWarning: Precision is ill-defined and being set to 0.0 in labels with no predicted samples. Use `zero_division` parameter to control this behavior.\n",
      "  _warn_prf(average, modifier, msg_start, len(result))\n",
      "D:\\ANACONDA\\lib\\site-packages\\sklearn\\metrics\\_classification.py:1318: UndefinedMetricWarning: Precision is ill-defined and being set to 0.0 in labels with no predicted samples. Use `zero_division` parameter to control this behavior.\n",
      "  _warn_prf(average, modifier, msg_start, len(result))\n",
      "D:\\ANACONDA\\lib\\site-packages\\sklearn\\metrics\\_classification.py:1318: UndefinedMetricWarning: Precision is ill-defined and being set to 0.0 in labels with no predicted samples. Use `zero_division` parameter to control this behavior.\n",
      "  _warn_prf(average, modifier, msg_start, len(result))\n",
      "D:\\ANACONDA\\lib\\site-packages\\sklearn\\metrics\\_classification.py:1318: UndefinedMetricWarning: Recall is ill-defined and being set to 0.0 in labels with no true samples. Use `zero_division` parameter to control this behavior.\n",
      "  _warn_prf(average, modifier, msg_start, len(result))\n"
     ]
    },
    {
     "data": {
      "text/plain": [
       "(                                                  Y1        Y2        Y3  \\\n",
       " subordinate clauses                         0.116531 -0.396754 -0.377109   \n",
       " non-factive verb phrase structure          -0.151617  0.365288       NaN   \n",
       " collaborative finishes                      0.186891       NaN  0.574441   \n",
       " feedback in the next turn                   0.196870  0.405557       NaN   \n",
       " epistemic copulas                           0.226716 -0.632121  0.302988   \n",
       " question-based responses                   -0.260254       NaN       NaN   \n",
       " negotiation of meaning                     -0.431024  0.341880  0.237107   \n",
       " formulaic responses                        -0.441459       NaN       NaN   \n",
       " reference word                             -0.481514  0.520446       NaN   \n",
       " routinized resources                       -0.804706  0.788647       NaN   \n",
       " impersonal subject + non-factive verb + NP       NaN  0.296403       NaN   \n",
       " adjectives/ adverbs expressing possibility       NaN  0.529010 -0.508377   \n",
       " tense choice to indicate interactive aims        NaN -0.643815 -0.523096   \n",
       " backchannels                                     NaN       NaN  0.185248   \n",
       " code-switching for communicative purposes        NaN       NaN  0.297938   \n",
       " epistemic modals                                 NaN       NaN -0.344895   \n",
       " noun & verb collocation in proper form           NaN       NaN -0.560053   \n",
       " \n",
       "                                                   Y4  \n",
       " subordinate clauses                              NaN  \n",
       " non-factive verb phrase structure                NaN  \n",
       " collaborative finishes                      0.262406  \n",
       " feedback in the next turn                        NaN  \n",
       " epistemic copulas                                NaN  \n",
       " question-based responses                   -0.284370  \n",
       " negotiation of meaning                      0.458348  \n",
       " formulaic responses                        -0.222112  \n",
       " reference word                                   NaN  \n",
       " routinized resources                        0.323426  \n",
       " impersonal subject + non-factive verb + NP       NaN  \n",
       " adjectives/ adverbs expressing possibility -0.612303  \n",
       " tense choice to indicate interactive aims  -0.560080  \n",
       " backchannels                                     NaN  \n",
       " code-switching for communicative purposes   0.288798  \n",
       " epistemic modals                            0.335872  \n",
       " noun & verb collocation in proper form     -0.292686  ,\n",
       " [           Y1        Y2        Y3        Y4\n",
       "  acc  0.708861  0.772152  0.936709  0.924051\n",
       "  pre  0.638219  0.657062  0.904173  0.879260\n",
       "  rec  0.708861  0.772152  0.936709  0.924051\n",
       "  f1s  0.648688  0.695928  0.915414  0.891814,\n",
       "             Y1        Y2    Y3        Y4\n",
       "  acc  0.800000  0.675000  0.95  0.975000\n",
       "  pre  0.777632  0.547297  0.95  1.000000\n",
       "  rec  0.800000  0.675000  0.95  0.975000\n",
       "  f1s  0.750238  0.604478  0.95  0.987342])"
      ]
     },
     "execution_count": 47,
     "metadata": {},
     "output_type": "execute_result"
    }
   ],
   "source": [
    "model_name='Logit'\n",
    "result,test_true_pred,train_true_pred,importance=get_all_result(train_x_normal,train_c,\n",
    "                                                                test_x_normal,test_c,\n",
    "                                                                model_name)\n",
    "task_2_importanc[model_name]=importance\n",
    "task_2_test_true_pred[model_name]=test_true_pred\n",
    "task_2_train_true_pred[model_name]=train_true_pred\n",
    "importance,result"
   ]
  },
  {
   "cell_type": "code",
   "execution_count": 49,
   "metadata": {
    "scrolled": true
   },
   "outputs": [
    {
     "name": "stderr",
     "output_type": "stream",
     "text": [
      "D:\\ANACONDA\\lib\\site-packages\\sklearn\\metrics\\_classification.py:1318: UndefinedMetricWarning: Precision is ill-defined and being set to 0.0 in labels with no predicted samples. Use `zero_division` parameter to control this behavior.\n",
      "  _warn_prf(average, modifier, msg_start, len(result))\n",
      "D:\\ANACONDA\\lib\\site-packages\\sklearn\\metrics\\_classification.py:1318: UndefinedMetricWarning: Recall is ill-defined and being set to 0.0 in labels with no true samples. Use `zero_division` parameter to control this behavior.\n",
      "  _warn_prf(average, modifier, msg_start, len(result))\n",
      "D:\\ANACONDA\\lib\\site-packages\\sklearn\\metrics\\_classification.py:1318: UndefinedMetricWarning: Precision is ill-defined and being set to 0.0 in labels with no predicted samples. Use `zero_division` parameter to control this behavior.\n",
      "  _warn_prf(average, modifier, msg_start, len(result))\n",
      "D:\\ANACONDA\\lib\\site-packages\\sklearn\\metrics\\_classification.py:1318: UndefinedMetricWarning: Precision is ill-defined and being set to 0.0 in labels with no predicted samples. Use `zero_division` parameter to control this behavior.\n",
      "  _warn_prf(average, modifier, msg_start, len(result))\n"
     ]
    },
    {
     "data": {
      "text/plain": [
       "(                                                  Y1        Y2        Y3  \\\n",
       " formulaic responses                         0.061883  0.071716       NaN   \n",
       " negotiation of meaning                      0.063414  0.080021  0.054175   \n",
       " question-based responses                    0.064342       NaN  0.074857   \n",
       " subordinate clauses                         0.071053  0.089081  0.088212   \n",
       " backchannels                                0.073486  0.083901  0.095126   \n",
       " feedback in the next turn                   0.077736  0.068311  0.095859   \n",
       " adjectives/ adverbs expressing possibility  0.086330  0.078509       NaN   \n",
       " reference word                              0.092233  0.085290  0.093487   \n",
       " tense choice to indicate interactive aims   0.096827  0.080184       NaN   \n",
       " noun & verb collocation in proper form      0.111679  0.091853  0.091099   \n",
       " routinized resources                             NaN  0.079911  0.129442   \n",
       " epistemic copulas                                NaN       NaN  0.044587   \n",
       " epistemic modals                                 NaN       NaN  0.062514   \n",
       " collaborative finishes                           NaN       NaN       NaN   \n",
       " \n",
       "                                                   Y4  \n",
       " formulaic responses                              NaN  \n",
       " negotiation of meaning                      0.057398  \n",
       " question-based responses                    0.052111  \n",
       " subordinate clauses                         0.080400  \n",
       " backchannels                                0.112787  \n",
       " feedback in the next turn                   0.097789  \n",
       " adjectives/ adverbs expressing possibility  0.047454  \n",
       " reference word                              0.095092  \n",
       " tense choice to indicate interactive aims        NaN  \n",
       " noun & verb collocation in proper form      0.117945  \n",
       " routinized resources                        0.120615  \n",
       " epistemic copulas                                NaN  \n",
       " epistemic modals                                 NaN  \n",
       " collaborative finishes                      0.080854  ,\n",
       " [           Y1        Y2   Y3   Y4\n",
       "  acc  0.993671  0.993671  1.0  1.0\n",
       "  pre  0.993731  0.993722  1.0  1.0\n",
       "  rec  0.993671  0.993671  1.0  1.0\n",
       "  f1s  0.993334  0.993517  1.0  1.0,\n",
       "             Y1        Y2        Y3   Y4\n",
       "  acc  0.700000  0.725000  0.975000  1.0\n",
       "  pre  0.622222  0.557692  0.950625  1.0\n",
       "  rec  0.700000  0.725000  0.975000  1.0\n",
       "  f1s  0.658824  0.630435  0.962658  1.0])"
      ]
     },
     "execution_count": 49,
     "metadata": {},
     "output_type": "execute_result"
    }
   ],
   "source": [
    "model_name='RF_C'\n",
    "result,test_true_pred,train_true_pred,importance=get_all_result(train_x_normal,train_c,\n",
    "                                                                test_x_normal,test_c,\n",
    "                                                                model_name)\n",
    "task_2_importanc[model_name]=importance\n",
    "task_2_test_true_pred[model_name]=test_true_pred\n",
    "task_2_train_true_pred[model_name]=train_true_pred\n",
    "importance,result"
   ]
  },
  {
   "cell_type": "code",
   "execution_count": 50,
   "metadata": {
    "scrolled": true
   },
   "outputs": [
    {
     "name": "stderr",
     "output_type": "stream",
     "text": [
      "D:\\ANACONDA\\lib\\site-packages\\sklearn\\metrics\\_classification.py:1318: UndefinedMetricWarning: Recall is ill-defined and being set to 0.0 in labels with no true samples. Use `zero_division` parameter to control this behavior.\n",
      "  _warn_prf(average, modifier, msg_start, len(result))\n",
      "D:\\ANACONDA\\lib\\site-packages\\sklearn\\utils\\deprecation.py:103: FutureWarning: Attribute `coef_` was deprecated in version 0.24 and will be removed in 1.1 (renaming of 0.26).\n",
      "  warnings.warn(msg, category=FutureWarning)\n",
      "D:\\ANACONDA\\lib\\site-packages\\sklearn\\metrics\\_classification.py:1318: UndefinedMetricWarning: Precision is ill-defined and being set to 0.0 in labels with no predicted samples. Use `zero_division` parameter to control this behavior.\n",
      "  _warn_prf(average, modifier, msg_start, len(result))\n",
      "D:\\ANACONDA\\lib\\site-packages\\sklearn\\metrics\\_classification.py:1318: UndefinedMetricWarning: Precision is ill-defined and being set to 0.0 in labels with no predicted samples. Use `zero_division` parameter to control this behavior.\n",
      "  _warn_prf(average, modifier, msg_start, len(result))\n",
      "D:\\ANACONDA\\lib\\site-packages\\sklearn\\utils\\deprecation.py:103: FutureWarning: Attribute `coef_` was deprecated in version 0.24 and will be removed in 1.1 (renaming of 0.26).\n",
      "  warnings.warn(msg, category=FutureWarning)\n",
      "D:\\ANACONDA\\lib\\site-packages\\sklearn\\metrics\\_classification.py:1318: UndefinedMetricWarning: Precision is ill-defined and being set to 0.0 in labels with no predicted samples. Use `zero_division` parameter to control this behavior.\n",
      "  _warn_prf(average, modifier, msg_start, len(result))\n",
      "D:\\ANACONDA\\lib\\site-packages\\sklearn\\metrics\\_classification.py:1318: UndefinedMetricWarning: Precision is ill-defined and being set to 0.0 in labels with no predicted samples. Use `zero_division` parameter to control this behavior.\n",
      "  _warn_prf(average, modifier, msg_start, len(result))\n",
      "D:\\ANACONDA\\lib\\site-packages\\sklearn\\metrics\\_classification.py:1318: UndefinedMetricWarning: Recall is ill-defined and being set to 0.0 in labels with no true samples. Use `zero_division` parameter to control this behavior.\n",
      "  _warn_prf(average, modifier, msg_start, len(result))\n",
      "D:\\ANACONDA\\lib\\site-packages\\sklearn\\utils\\deprecation.py:103: FutureWarning: Attribute `coef_` was deprecated in version 0.24 and will be removed in 1.1 (renaming of 0.26).\n",
      "  warnings.warn(msg, category=FutureWarning)\n",
      "D:\\ANACONDA\\lib\\site-packages\\sklearn\\metrics\\_classification.py:1318: UndefinedMetricWarning: Precision is ill-defined and being set to 0.0 in labels with no predicted samples. Use `zero_division` parameter to control this behavior.\n",
      "  _warn_prf(average, modifier, msg_start, len(result))\n",
      "D:\\ANACONDA\\lib\\site-packages\\sklearn\\utils\\deprecation.py:103: FutureWarning: Attribute `coef_` was deprecated in version 0.24 and will be removed in 1.1 (renaming of 0.26).\n",
      "  warnings.warn(msg, category=FutureWarning)\n"
     ]
    },
    {
     "data": {
      "text/plain": [
       "(                                                  Y1        Y2        Y3  \\\n",
       " collaborative finishes                     -1.252763 -2.397895       NaN   \n",
       " epistemic copulas                          -1.252763 -2.397895       NaN   \n",
       " epistemic modals                           -1.252763 -1.704748 -1.609438   \n",
       " negotiation of meaning                     -1.252763       NaN       NaN   \n",
       " impersonal subject + non-factive verb + NP -1.252763 -1.704748 -1.609438   \n",
       " routinized resources                       -1.945910       NaN       NaN   \n",
       " question-based responses                   -1.945910 -1.704748 -1.609438   \n",
       " formulaic responses                        -1.945910 -1.704748 -1.609438   \n",
       " non-factive verb phrase structure          -1.945910 -1.704748 -1.609438   \n",
       " code-switching for communicative purposes  -1.945910 -2.397895       NaN   \n",
       " subordinate clauses                              NaN -1.299283 -1.609438   \n",
       " tense choice to indicate interactive aims        NaN -1.704748 -1.609438   \n",
       " feedback in the next turn                        NaN       NaN -1.609438   \n",
       " adjectives/ adverbs expressing possibility       NaN       NaN -1.609438   \n",
       " noun & verb collocation in proper form           NaN       NaN -1.609438   \n",
       " \n",
       "                                                   Y4  \n",
       " collaborative finishes                           NaN  \n",
       " epistemic copulas                          -1.252763  \n",
       " epistemic modals                           -1.252763  \n",
       " negotiation of meaning                           NaN  \n",
       " impersonal subject + non-factive verb + NP -1.945910  \n",
       " routinized resources                             NaN  \n",
       " question-based responses                   -1.945910  \n",
       " formulaic responses                        -1.945910  \n",
       " non-factive verb phrase structure          -1.945910  \n",
       " code-switching for communicative purposes  -1.252763  \n",
       " subordinate clauses                              NaN  \n",
       " tense choice to indicate interactive aims  -1.945910  \n",
       " feedback in the next turn                  -1.252763  \n",
       " adjectives/ adverbs expressing possibility -1.945910  \n",
       " noun & verb collocation in proper form           NaN  ,\n",
       " [           Y1        Y2        Y3        Y4\n",
       "  acc  0.664557  0.772152  0.911392  0.898734\n",
       "  pre  0.571984  0.655825  0.886481  0.850279\n",
       "  rec  0.664557  0.772152  0.911392  0.898734\n",
       "  f1s  0.589388  0.698289  0.895317  0.871500,\n",
       "             Y1        Y2        Y3   Y4\n",
       "  acc  0.750000  0.700000  0.925000  1.0\n",
       "  pre  0.744853  0.567568  0.949342  1.0\n",
       "  rec  0.750000  0.700000  0.925000  1.0\n",
       "  f1s  0.738745  0.626866  0.937013  1.0])"
      ]
     },
     "execution_count": 50,
     "metadata": {},
     "output_type": "execute_result"
    }
   ],
   "source": [
    "model_name='NB_C'\n",
    "result,test_true_pred,train_true_pred,importance=get_all_result(train_x_normal,train_c,\n",
    "                                                                test_x_normal,test_c,\n",
    "                                                                model_name)\n",
    "task_2_importanc[model_name]=importance\n",
    "task_2_test_true_pred[model_name]=test_true_pred\n",
    "task_2_train_true_pred[model_name]=train_true_pred\n",
    "importance,result"
   ]
  },
  {
   "cell_type": "code",
   "execution_count": 21,
   "metadata": {},
   "outputs": [],
   "source": [
    "def get_model_C(input_dim,output_dim):\n",
    "    inputs=tf.keras.layers.Input(shape=(input_dim,))\n",
    "    dense=tf.keras.layers.Dense(64,activation='relu')(inputs)\n",
    "    dense=tf.keras.layers.Dense(64,activation='relu')(dense)\n",
    "    outputs=tf.keras.layers.Dense(5,activation='softmax')(dense)\n",
    "\n",
    "    model=tf.keras.models.Model(inputs,outputs)\n",
    "    model.compile(optimizer='adam',loss='sparse_categorical_crossentropy')\n",
    "    return model"
   ]
  },
  {
   "cell_type": "code",
   "execution_count": 22,
   "metadata": {
    "scrolled": true
   },
   "outputs": [],
   "source": [
    "def get_BP_result_C(train_x_normal,train_c,test_x_normal,test_c,model_name):\n",
    "    input_dim=train_x_normal.shape[1]\n",
    "    output_dim=train_c.shape[1]\n",
    "    \n",
    "    result_func=get_result\n",
    "    metrics_list=['acc','pre','rec','f1s']\n",
    "    \n",
    "    train_pred_dict,test_pred_dict={},{}\n",
    "    train_result_dict,test_result_dict={},{}\n",
    "    for co in train_c.columns:\n",
    "        train_y_normal=train_c[[co]]-1\n",
    "        test_y_normal=test_c[[co]]-1\n",
    "        model_bp=get_model_C(input_dim,output_dim)\n",
    "        stopearly=tf.keras.callbacks.EarlyStopping(patience=10,restore_best_weights=True,monitor='val_loss')\n",
    "        \n",
    "        history=model_bp.fit(train_x_normal,train_y_normal,\n",
    "                         validation_split=0.1,batch_size=16,\n",
    "                         epochs=100,callbacks=[stopearly],verbose=0)\n",
    "        \n",
    "        test_pred_bp=model_bp.predict(test_x_normal)\n",
    "        train_pred_bp=model_bp.predict(train_x_normal)\n",
    "        \n",
    "        train_pred_bp=train_pred_bp.argmax(1)+1\n",
    "        test_pred_bp=test_pred_bp.argmax(1)+1\n",
    "        train_pred_dict[co]=train_pred_bp\n",
    "        test_pred_dict[co]=test_pred_bp\n",
    "        \n",
    "        train_result_dict[co]=result_func(train_y_normal+1,train_pred_bp)\n",
    "        test_result_dict[co]=result_func(test_y_normal+1,test_pred_bp)\n",
    "        \n",
    "    train_result=pd.DataFrame(train_result_dict,index=metrics_list)\n",
    "    test_result=pd.DataFrame(test_result_dict,index=metrics_list)\n",
    "    \n",
    "    train_pred_bp=pd.DataFrame(train_pred_dict,index=train_y_normal.index)\n",
    "    test_pred_bp=pd.DataFrame(test_pred_dict,index=test_y_normal.index)\n",
    "    train_true_bp=train_c.copy()\n",
    "    test_true_bp=test_c.copy()\n",
    "    return [train_result,test_result],[test_true_bp,test_pred_bp],[train_true_bp,train_pred_bp],None"
   ]
  },
  {
   "cell_type": "code",
   "execution_count": 23,
   "metadata": {
    "scrolled": true
   },
   "outputs": [
    {
     "name": "stdout",
     "output_type": "stream",
     "text": [
      "2/2 [==============================] - 0s 2ms/step\n",
      "5/5 [==============================] - 0s 996us/step\n"
     ]
    },
    {
     "name": "stderr",
     "output_type": "stream",
     "text": [
      "D:\\ANACONDA\\lib\\site-packages\\sklearn\\metrics\\_classification.py:1318: UndefinedMetricWarning: Precision is ill-defined and being set to 0.0 in labels with no predicted samples. Use `zero_division` parameter to control this behavior.\n",
      "  _warn_prf(average, modifier, msg_start, len(result))\n",
      "D:\\ANACONDA\\lib\\site-packages\\sklearn\\metrics\\_classification.py:1318: UndefinedMetricWarning: Precision is ill-defined and being set to 0.0 in labels with no predicted samples. Use `zero_division` parameter to control this behavior.\n",
      "  _warn_prf(average, modifier, msg_start, len(result))\n"
     ]
    },
    {
     "name": "stdout",
     "output_type": "stream",
     "text": [
      "2/2 [==============================] - 0s 2ms/step\n",
      "5/5 [==============================] - 0s 899us/step\n",
      "2/2 [==============================] - 0s 2ms/step\n",
      "5/5 [==============================] - 0s 997us/step\n"
     ]
    },
    {
     "name": "stderr",
     "output_type": "stream",
     "text": [
      "D:\\ANACONDA\\lib\\site-packages\\sklearn\\metrics\\_classification.py:1318: UndefinedMetricWarning: Precision is ill-defined and being set to 0.0 in labels with no predicted samples. Use `zero_division` parameter to control this behavior.\n",
      "  _warn_prf(average, modifier, msg_start, len(result))\n",
      "D:\\ANACONDA\\lib\\site-packages\\sklearn\\metrics\\_classification.py:1318: UndefinedMetricWarning: Precision is ill-defined and being set to 0.0 in labels with no predicted samples. Use `zero_division` parameter to control this behavior.\n",
      "  _warn_prf(average, modifier, msg_start, len(result))\n"
     ]
    },
    {
     "name": "stdout",
     "output_type": "stream",
     "text": [
      "2/2 [==============================] - 0s 2ms/step\n",
      "5/5 [==============================] - 0s 755us/step\n"
     ]
    },
    {
     "name": "stderr",
     "output_type": "stream",
     "text": [
      "D:\\ANACONDA\\lib\\site-packages\\sklearn\\metrics\\_classification.py:1318: UndefinedMetricWarning: Precision is ill-defined and being set to 0.0 in labels with no predicted samples. Use `zero_division` parameter to control this behavior.\n",
      "  _warn_prf(average, modifier, msg_start, len(result))\n",
      "D:\\ANACONDA\\lib\\site-packages\\sklearn\\metrics\\_classification.py:1318: UndefinedMetricWarning: Recall is ill-defined and being set to 0.0 in labels with no true samples. Use `zero_division` parameter to control this behavior.\n",
      "  _warn_prf(average, modifier, msg_start, len(result))\n"
     ]
    },
    {
     "data": {
      "text/plain": [
       "[           Y1        Y2        Y3   Y4\n",
       " acc  0.700000  0.985714  0.935714  1.0\n",
       " pre  0.490000  0.985984  0.875561  1.0\n",
       " rec  0.700000  0.985714  0.935714  1.0\n",
       " f1s  0.576471  0.985429  0.904639  1.0,\n",
       "            Y1        Y2        Y3        Y4\n",
       " acc  0.685714  0.600000  0.914286  0.942857\n",
       " pre  0.470204  0.578571  0.835918  0.915126\n",
       " rec  0.685714  0.600000  0.914286  0.942857\n",
       " f1s  0.557869  0.589091  0.873348  0.928785]"
      ]
     },
     "execution_count": 23,
     "metadata": {},
     "output_type": "execute_result"
    }
   ],
   "source": [
    "model_name='BP_C'\n",
    "result,test_true_pred,train_true_pred,importance=get_BP_result_C(train_x_normal,train_c,\n",
    "                                                               test_x_normal,test_c,model_name)\n",
    "result"
   ]
  },
  {
   "cell_type": "code",
   "execution_count": 40,
   "metadata": {},
   "outputs": [],
   "source": [
    "#=============整理topk重要度的集合===============\n",
    "type_df=collections.defaultdict(dict)\n",
    "for model_n,df in task_2_importanc.items():\n",
    "    for type_ in df.columns:\n",
    "        type_df[type_][model_n]=df[type_]\n",
    "        \n",
    "for type_,df in type_df.items():\n",
    "    df=pd.DataFrame(df)\n",
    "    save_csv(df,f'task_2_{type_}_importance_df')\n",
    "    \n",
    "#===========预测结果与真实结果的t-test检验==============\n",
    "def get_t_test_result(task_2_train_true_pred):\n",
    "    from scipy import stats\n",
    "    import scipy.stats\n",
    "    t_test_result={}\n",
    "    for model_n,true_pred in task_2_train_true_pred.items():\n",
    "        true,pred=true_pred\n",
    "        type_t={}\n",
    "        for type_ in true.columns:\n",
    "            true_t=true[type_].values\n",
    "            pred_t=pred[type_].values\n",
    "            t, pval = scipy.stats.ttest_ind(true_t, pred_t)\n",
    "            type_t[type_]=pval\n",
    "        t_test_result[model_n]=type_t\n",
    "    t_test_result=pd.DataFrame(t_test_result)\n",
    "    return t_test_result\n",
    "\n",
    "t_test_result=get_t_test_result(task_2_test_true_pred)\n",
    "t_train_result=get_t_test_result(task_2_train_true_pred)\n",
    "save_csv(t_test_result,'t_test_result_test')\n",
    "save_csv(t_train_result,'t_test_result_train')"
   ]
  },
  {
   "cell_type": "markdown",
   "metadata": {},
   "source": [
    "# Task3：替换x，只用Token"
   ]
  },
  {
   "cell_type": "code",
   "execution_count": 24,
   "metadata": {},
   "outputs": [],
   "source": [
    "train_x_normal_=train_x_normal[list(Token_level_label_count.keys())]\n",
    "test_x_normal_=test_x_normal[list(Token_level_label_count.keys())]"
   ]
  },
  {
   "cell_type": "code",
   "execution_count": 25,
   "metadata": {
    "scrolled": true
   },
   "outputs": [
    {
     "data": {
      "text/plain": [
       "(                                                 Y1        Y2        Y3  \\\n",
       " reference word                            -0.030723 -0.083305 -0.028687   \n",
       " code-switching for communicative purposes  0.042041 -0.094729 -0.022490   \n",
       " subordinate clauses                        0.086206  0.057171  0.018881   \n",
       " tense choice to indicate interactive aims  0.107389       NaN       NaN   \n",
       " noun & verb collocation in proper form     0.107601       NaN -0.018211   \n",
       " negotiation of meaning                          NaN -0.074890  0.026343   \n",
       " routinized resources                            NaN -0.151891       NaN   \n",
       " \n",
       "                                                  Y4  \n",
       " reference word                             0.030979  \n",
       " code-switching for communicative purposes       NaN  \n",
       " subordinate clauses                        0.003731  \n",
       " tense choice to indicate interactive aims       NaN  \n",
       " noun & verb collocation in proper form     0.003676  \n",
       " negotiation of meaning                     0.004069  \n",
       " routinized resources                      -0.012675  ,\n",
       " [            Y1        Y2        Y3        Y4\n",
       "  mae   0.422357  0.377829  0.127795  0.045846\n",
       "  mse   0.475915  0.413558  0.092845  0.017809\n",
       "  mape  0.159658  0.163879  0.038260  0.017679\n",
       "  r2    0.063702  0.091791  0.029790  0.063065,\n",
       "              Y1        Y2        Y3        Y4\n",
       "  mae   0.394362  0.278532  0.110968  0.071286\n",
       "  mse   0.398885  0.184263  0.031614  0.047802\n",
       "  mape  0.119964  0.109597  0.037835  0.033411\n",
       "  r2    0.004281 -0.373217 -1.053415  0.044298])"
      ]
     },
     "execution_count": 25,
     "metadata": {},
     "output_type": "execute_result"
    }
   ],
   "source": [
    "#================Linear===========\n",
    "model_name='Linear'\n",
    "result,test_true_pred,train_true_pred,importance=get_all_result(train_x_normal_,train_y,\n",
    "                                                                test_x_normal_,test_y,\n",
    "                                                                model_name)\n",
    "importance,result"
   ]
  },
  {
   "cell_type": "code",
   "execution_count": 26,
   "metadata": {},
   "outputs": [
    {
     "data": {
      "text/plain": [
       "(                                                 Y1        Y2        Y3  \\\n",
       " reference word                             0.124345       NaN       NaN   \n",
       " subordinate clauses                        0.154470  0.144168  0.148995   \n",
       " negotiation of meaning                     0.162718  0.218265  0.230531   \n",
       " tense choice to indicate interactive aims  0.174373  0.191246  0.101673   \n",
       " noun & verb collocation in proper form     0.288498  0.167940  0.163210   \n",
       " routinized resources                            NaN  0.127410  0.232595   \n",
       " code-switching for communicative purposes       NaN       NaN       NaN   \n",
       " \n",
       "                                                  Y4  \n",
       " reference word                             0.143946  \n",
       " subordinate clauses                        0.206441  \n",
       " negotiation of meaning                          NaN  \n",
       " tense choice to indicate interactive aims       NaN  \n",
       " noun & verb collocation in proper form     0.106525  \n",
       " routinized resources                       0.282916  \n",
       " code-switching for communicative purposes  0.137283  ,\n",
       "             Y1        Y2        Y3        Y4\n",
       " mae   0.497970  0.316406  0.138737  0.073558\n",
       " mse   0.480015  0.277702  0.056936  0.055498\n",
       " mape  0.157853  0.123974  0.047026  0.034508\n",
       " r2   -0.198241 -1.069568 -2.698139 -0.109576)"
      ]
     },
     "execution_count": 26,
     "metadata": {},
     "output_type": "execute_result"
    }
   ],
   "source": [
    "#=================RF===============\n",
    "model_name='RF_R'\n",
    "result,test_true_pred,train_true_pred,importance=get_all_result(train_x_normal_,train_y,\n",
    "                                                                test_x_normal_,test_y,\n",
    "                                                                model_name)\n",
    "importance,result[1]"
   ]
  },
  {
   "cell_type": "code",
   "execution_count": 27,
   "metadata": {},
   "outputs": [
    {
     "data": {
      "text/plain": [
       "(                                                 Y1        Y2        Y3  \\\n",
       " routinized resources                      -0.003556 -0.069021  0.000443   \n",
       " code-switching for communicative purposes  0.008628 -0.038098 -0.000497   \n",
       " noun & verb collocation in proper form     0.023275       NaN       NaN   \n",
       " subordinate clauses                        0.023558  0.024982       NaN   \n",
       " tense choice to indicate interactive aims  0.025229       NaN -0.000642   \n",
       " reference word                                  NaN -0.029485 -0.000968   \n",
       " negotiation of meaning                          NaN -0.035620  0.000809   \n",
       " \n",
       "                                                  Y4  \n",
       " routinized resources                      -0.003940  \n",
       " code-switching for communicative purposes -0.001129  \n",
       " noun & verb collocation in proper form     0.001923  \n",
       " subordinate clauses                        0.001204  \n",
       " tense choice to indicate interactive aims       NaN  \n",
       " reference word                             0.008666  \n",
       " negotiation of meaning                          NaN  ,\n",
       "             Y1        Y2        Y3        Y4\n",
       " mae   0.371398  0.216179  0.086178  0.059975\n",
       " mse   0.394195  0.144813  0.019262  0.049450\n",
       " mape  0.111717  0.087181  0.029355  0.029997\n",
       " r2    0.015989 -0.079213 -0.251133  0.011348)"
      ]
     },
     "execution_count": 27,
     "metadata": {},
     "output_type": "execute_result"
    }
   ],
   "source": [
    "#=================RF===============\n",
    "model_name='NB_R'\n",
    "result,test_true_pred,train_true_pred,importance=get_all_result(train_x_normal_,train_y,\n",
    "                                                                test_x_normal_,test_y,\n",
    "                                                                model_name)\n",
    "importance,result[1]"
   ]
  },
  {
   "cell_type": "code",
   "execution_count": 28,
   "metadata": {
    "scrolled": true
   },
   "outputs": [
    {
     "name": "stdout",
     "output_type": "stream",
     "text": [
      "2/2 [==============================] - 0s 997us/step\n",
      "5/5 [==============================] - 0s 747us/step\n"
     ]
    },
    {
     "data": {
      "text/plain": [
       "[            Y1        Y2        Y3        Y4\n",
       " mae   0.405819  0.336431  0.133853  0.074406\n",
       " mse   0.402158  0.331834  0.066440  0.015901\n",
       " mape  0.152202  0.140766  0.040352  0.026546\n",
       " r2    0.208810  0.271264  0.305722  0.163428,\n",
       "             Y1        Y2        Y3        Y4\n",
       " mae   0.411261  0.310570  0.176376  0.156214\n",
       " mse   0.368698  0.217433  0.080675  0.077958\n",
       " mape  0.126492  0.119340  0.060089  0.061850\n",
       " r2    0.079635 -0.620412 -4.240009 -0.558627]"
      ]
     },
     "execution_count": 28,
     "metadata": {},
     "output_type": "execute_result"
    }
   ],
   "source": [
    "model_name='BP_R'\n",
    "result,test_true_pred,train_true_pred,importance=get_BP_result(train_x_normal_,train_y,\n",
    "                                                               test_x_normal_,test_y,model_name)\n",
    "result"
   ]
  },
  {
   "cell_type": "code",
   "execution_count": 29,
   "metadata": {
    "scrolled": true
   },
   "outputs": [
    {
     "name": "stderr",
     "output_type": "stream",
     "text": [
      "D:\\ANACONDA\\lib\\site-packages\\sklearn\\metrics\\_classification.py:1318: UndefinedMetricWarning: Precision is ill-defined and being set to 0.0 in labels with no predicted samples. Use `zero_division` parameter to control this behavior.\n",
      "  _warn_prf(average, modifier, msg_start, len(result))\n",
      "D:\\ANACONDA\\lib\\site-packages\\sklearn\\metrics\\_classification.py:1318: UndefinedMetricWarning: Precision is ill-defined and being set to 0.0 in labels with no predicted samples. Use `zero_division` parameter to control this behavior.\n",
      "  _warn_prf(average, modifier, msg_start, len(result))\n",
      "D:\\ANACONDA\\lib\\site-packages\\sklearn\\metrics\\_classification.py:1318: UndefinedMetricWarning: Precision is ill-defined and being set to 0.0 in labels with no predicted samples. Use `zero_division` parameter to control this behavior.\n",
      "  _warn_prf(average, modifier, msg_start, len(result))\n",
      "D:\\ANACONDA\\lib\\site-packages\\sklearn\\metrics\\_classification.py:1318: UndefinedMetricWarning: Precision is ill-defined and being set to 0.0 in labels with no predicted samples. Use `zero_division` parameter to control this behavior.\n",
      "  _warn_prf(average, modifier, msg_start, len(result))\n",
      "D:\\ANACONDA\\lib\\site-packages\\sklearn\\metrics\\_classification.py:1318: UndefinedMetricWarning: Precision is ill-defined and being set to 0.0 in labels with no predicted samples. Use `zero_division` parameter to control this behavior.\n",
      "  _warn_prf(average, modifier, msg_start, len(result))\n",
      "D:\\ANACONDA\\lib\\site-packages\\sklearn\\metrics\\_classification.py:1318: UndefinedMetricWarning: Precision is ill-defined and being set to 0.0 in labels with no predicted samples. Use `zero_division` parameter to control this behavior.\n",
      "  _warn_prf(average, modifier, msg_start, len(result))\n",
      "D:\\ANACONDA\\lib\\site-packages\\sklearn\\metrics\\_classification.py:1318: UndefinedMetricWarning: Recall is ill-defined and being set to 0.0 in labels with no true samples. Use `zero_division` parameter to control this behavior.\n",
      "  _warn_prf(average, modifier, msg_start, len(result))\n",
      "D:\\ANACONDA\\lib\\site-packages\\sklearn\\metrics\\_classification.py:1318: UndefinedMetricWarning: Precision is ill-defined and being set to 0.0 in labels with no predicted samples. Use `zero_division` parameter to control this behavior.\n",
      "  _warn_prf(average, modifier, msg_start, len(result))\n",
      "D:\\ANACONDA\\lib\\site-packages\\sklearn\\metrics\\_classification.py:1318: UndefinedMetricWarning: Precision is ill-defined and being set to 0.0 in labels with no predicted samples. Use `zero_division` parameter to control this behavior.\n",
      "  _warn_prf(average, modifier, msg_start, len(result))\n"
     ]
    },
    {
     "data": {
      "text/plain": [
       "(                                                 Y1        Y2        Y3  \\\n",
       " tense choice to indicate interactive aims -0.172641 -0.662408       NaN   \n",
       " code-switching for communicative purposes -0.243042 -0.346816       NaN   \n",
       " routinized resources                       0.291146  0.731935  0.436286   \n",
       " negotiation of meaning                    -0.533332  0.378248  0.584746   \n",
       " subordinate clauses                       -0.647316 -0.099278 -0.503111   \n",
       " noun & verb collocation in proper form          NaN       NaN -0.407147   \n",
       " reference word                                  NaN       NaN -0.540526   \n",
       " \n",
       "                                                  Y4  \n",
       " tense choice to indicate interactive aims -0.319712  \n",
       " code-switching for communicative purposes       NaN  \n",
       " routinized resources                       0.768454  \n",
       " negotiation of meaning                     0.660891  \n",
       " subordinate clauses                       -0.610205  \n",
       " noun & verb collocation in proper form    -0.490494  \n",
       " reference word                                  NaN  ,\n",
       " [           Y1        Y2        Y3        Y4\n",
       "  acc  0.700000  0.764286  0.942857  0.950000\n",
       "  pre  0.526349  0.694258  0.896146  0.902500\n",
       "  rec  0.700000  0.764286  0.942857  0.950000\n",
       "  f1s  0.595872  0.679881  0.917513  0.925641,\n",
       "             Y1        Y2        Y3        Y4\n",
       "  acc  0.628571  0.771429  0.914286  0.942857\n",
       "  pre  0.457143  0.595102  0.860504  0.888980\n",
       "  rec  0.628571  0.771429  0.914286  0.942857\n",
       "  f1s  0.529323  0.671889  0.886580  0.915126])"
      ]
     },
     "execution_count": 29,
     "metadata": {},
     "output_type": "execute_result"
    }
   ],
   "source": [
    "model_name='Logit'\n",
    "result,test_true_pred,train_true_pred,importance=get_all_result(train_x_normal_,train_c,\n",
    "                                                                test_x_normal_,test_c,\n",
    "                                                                model_name)\n",
    "importance,result"
   ]
  },
  {
   "cell_type": "code",
   "execution_count": 30,
   "metadata": {
    "scrolled": true
   },
   "outputs": [
    {
     "name": "stderr",
     "output_type": "stream",
     "text": [
      "D:\\ANACONDA\\lib\\site-packages\\sklearn\\metrics\\_classification.py:1318: UndefinedMetricWarning: Precision is ill-defined and being set to 0.0 in labels with no predicted samples. Use `zero_division` parameter to control this behavior.\n",
      "  _warn_prf(average, modifier, msg_start, len(result))\n",
      "D:\\ANACONDA\\lib\\site-packages\\sklearn\\metrics\\_classification.py:1318: UndefinedMetricWarning: Precision is ill-defined and being set to 0.0 in labels with no predicted samples. Use `zero_division` parameter to control this behavior.\n",
      "  _warn_prf(average, modifier, msg_start, len(result))\n",
      "D:\\ANACONDA\\lib\\site-packages\\sklearn\\metrics\\_classification.py:1318: UndefinedMetricWarning: Precision is ill-defined and being set to 0.0 in labels with no predicted samples. Use `zero_division` parameter to control this behavior.\n",
      "  _warn_prf(average, modifier, msg_start, len(result))\n",
      "D:\\ANACONDA\\lib\\site-packages\\sklearn\\metrics\\_classification.py:1318: UndefinedMetricWarning: Precision is ill-defined and being set to 0.0 in labels with no predicted samples. Use `zero_division` parameter to control this behavior.\n",
      "  _warn_prf(average, modifier, msg_start, len(result))\n",
      "D:\\ANACONDA\\lib\\site-packages\\sklearn\\metrics\\_classification.py:1318: UndefinedMetricWarning: Recall is ill-defined and being set to 0.0 in labels with no true samples. Use `zero_division` parameter to control this behavior.\n",
      "  _warn_prf(average, modifier, msg_start, len(result))\n",
      "D:\\ANACONDA\\lib\\site-packages\\sklearn\\metrics\\_classification.py:1318: UndefinedMetricWarning: Precision is ill-defined and being set to 0.0 in labels with no predicted samples. Use `zero_division` parameter to control this behavior.\n",
      "  _warn_prf(average, modifier, msg_start, len(result))\n",
      "D:\\ANACONDA\\lib\\site-packages\\sklearn\\metrics\\_classification.py:1318: UndefinedMetricWarning: Recall is ill-defined and being set to 0.0 in labels with no true samples. Use `zero_division` parameter to control this behavior.\n",
      "  _warn_prf(average, modifier, msg_start, len(result))\n"
     ]
    },
    {
     "data": {
      "text/plain": [
       "(                                                 Y1        Y2        Y3  \\\n",
       " negotiation of meaning                     0.139387  0.177733  0.150181   \n",
       " subordinate clauses                        0.150979  0.165157  0.152326   \n",
       " reference word                             0.152197  0.144017  0.169315   \n",
       " tense choice to indicate interactive aims  0.163954  0.183714       NaN   \n",
       " noun & verb collocation in proper form     0.267745  0.182251  0.106198   \n",
       " routinized resources                            NaN       NaN  0.273343   \n",
       " \n",
       "                                                  Y4  \n",
       " negotiation of meaning                     0.131563  \n",
       " subordinate clauses                        0.186957  \n",
       " reference word                             0.239058  \n",
       " tense choice to indicate interactive aims       NaN  \n",
       " noun & verb collocation in proper form     0.133323  \n",
       " routinized resources                       0.135873  ,\n",
       " [           Y1        Y2        Y3        Y4\n",
       "  acc  0.914286  0.914286  0.971429  0.985714\n",
       "  pre  0.918050  0.914259  0.957989  0.991429\n",
       "  rec  0.914286  0.914286  0.971429  0.985714\n",
       "  f1s  0.913926  0.912977  0.960929  0.987446,\n",
       "             Y1        Y2        Y3        Y4\n",
       "  acc  0.600000  0.714286  0.914286  0.942857\n",
       "  pre  0.450000  0.622857  0.860504  0.915126\n",
       "  rec  0.600000  0.714286  0.914286  0.942857\n",
       "  f1s  0.514286  0.659148  0.886580  0.928785])"
      ]
     },
     "execution_count": 30,
     "metadata": {},
     "output_type": "execute_result"
    }
   ],
   "source": [
    "model_name='RF_C'\n",
    "result,test_true_pred,train_true_pred,importance=get_all_result(train_x_normal_,train_c,\n",
    "                                                                test_x_normal_,test_c,\n",
    "                                                                model_name)\n",
    "importance,result"
   ]
  },
  {
   "cell_type": "code",
   "execution_count": 31,
   "metadata": {
    "scrolled": true
   },
   "outputs": [
    {
     "name": "stderr",
     "output_type": "stream",
     "text": [
      "D:\\ANACONDA\\lib\\site-packages\\sklearn\\metrics\\_classification.py:1318: UndefinedMetricWarning: Precision is ill-defined and being set to 0.0 in labels with no predicted samples. Use `zero_division` parameter to control this behavior.\n",
      "  _warn_prf(average, modifier, msg_start, len(result))\n",
      "D:\\ANACONDA\\lib\\site-packages\\sklearn\\metrics\\_classification.py:1318: UndefinedMetricWarning: Precision is ill-defined and being set to 0.0 in labels with no predicted samples. Use `zero_division` parameter to control this behavior.\n",
      "  _warn_prf(average, modifier, msg_start, len(result))\n",
      "D:\\ANACONDA\\lib\\site-packages\\sklearn\\utils\\deprecation.py:103: FutureWarning: Attribute `coef_` was deprecated in version 0.24 and will be removed in 1.1 (renaming of 0.26).\n",
      "  warnings.warn(msg, category=FutureWarning)\n",
      "D:\\ANACONDA\\lib\\site-packages\\sklearn\\metrics\\_classification.py:1318: UndefinedMetricWarning: Precision is ill-defined and being set to 0.0 in labels with no predicted samples. Use `zero_division` parameter to control this behavior.\n",
      "  _warn_prf(average, modifier, msg_start, len(result))\n",
      "D:\\ANACONDA\\lib\\site-packages\\sklearn\\metrics\\_classification.py:1318: UndefinedMetricWarning: Precision is ill-defined and being set to 0.0 in labels with no predicted samples. Use `zero_division` parameter to control this behavior.\n",
      "  _warn_prf(average, modifier, msg_start, len(result))\n",
      "D:\\ANACONDA\\lib\\site-packages\\sklearn\\utils\\deprecation.py:103: FutureWarning: Attribute `coef_` was deprecated in version 0.24 and will be removed in 1.1 (renaming of 0.26).\n",
      "  warnings.warn(msg, category=FutureWarning)\n",
      "D:\\ANACONDA\\lib\\site-packages\\sklearn\\metrics\\_classification.py:1318: UndefinedMetricWarning: Precision is ill-defined and being set to 0.0 in labels with no predicted samples. Use `zero_division` parameter to control this behavior.\n",
      "  _warn_prf(average, modifier, msg_start, len(result))\n",
      "D:\\ANACONDA\\lib\\site-packages\\sklearn\\metrics\\_classification.py:1318: UndefinedMetricWarning: Precision is ill-defined and being set to 0.0 in labels with no predicted samples. Use `zero_division` parameter to control this behavior.\n",
      "  _warn_prf(average, modifier, msg_start, len(result))\n",
      "D:\\ANACONDA\\lib\\site-packages\\sklearn\\utils\\deprecation.py:103: FutureWarning: Attribute `coef_` was deprecated in version 0.24 and will be removed in 1.1 (renaming of 0.26).\n",
      "  warnings.warn(msg, category=FutureWarning)\n",
      "D:\\ANACONDA\\lib\\site-packages\\sklearn\\metrics\\_classification.py:1318: UndefinedMetricWarning: Precision is ill-defined and being set to 0.0 in labels with no predicted samples. Use `zero_division` parameter to control this behavior.\n",
      "  _warn_prf(average, modifier, msg_start, len(result))\n",
      "D:\\ANACONDA\\lib\\site-packages\\sklearn\\metrics\\_classification.py:1318: UndefinedMetricWarning: Precision is ill-defined and being set to 0.0 in labels with no predicted samples. Use `zero_division` parameter to control this behavior.\n",
      "  _warn_prf(average, modifier, msg_start, len(result))\n",
      "D:\\ANACONDA\\lib\\site-packages\\sklearn\\utils\\deprecation.py:103: FutureWarning: Attribute `coef_` was deprecated in version 0.24 and will be removed in 1.1 (renaming of 0.26).\n",
      "  warnings.warn(msg, category=FutureWarning)\n"
     ]
    },
    {
     "data": {
      "text/plain": [
       "(                                                 Y1        Y2        Y3  \\\n",
       " tense choice to indicate interactive aims -1.098612 -1.609438 -1.386294   \n",
       " subordinate clauses                       -1.504077 -0.916291 -1.386294   \n",
       " routinized resources                      -1.504077 -1.203973       NaN   \n",
       " negotiation of meaning                    -1.504077 -0.916291       NaN   \n",
       " code-switching for communicative purposes -2.197225 -2.302585 -0.693147   \n",
       " reference word                                  NaN       NaN -1.386294   \n",
       " noun & verb collocation in proper form          NaN       NaN -1.386294   \n",
       " \n",
       "                                                  Y4  \n",
       " tense choice to indicate interactive aims -1.386294  \n",
       " subordinate clauses                       -1.386294  \n",
       " routinized resources                            NaN  \n",
       " negotiation of meaning                          NaN  \n",
       " code-switching for communicative purposes -0.693147  \n",
       " reference word                            -1.386294  \n",
       " noun & verb collocation in proper form    -1.386294  ,\n",
       " [           Y1        Y2        Y3        Y4\n",
       "  acc  0.692857  0.757143  0.942857  0.957143\n",
       "  pre  0.526225  0.614496  0.896146  0.923279\n",
       "  rec  0.692857  0.757143  0.942857  0.957143\n",
       "  f1s  0.583820  0.665658  0.917513  0.938568,\n",
       "             Y1        Y2        Y3        Y4\n",
       "  acc  0.685714  0.800000  0.914286  0.942857\n",
       "  pre  0.484034  0.641176  0.835918  0.888980\n",
       "  rec  0.685714  0.800000  0.914286  0.942857\n",
       "  f1s  0.567488  0.711475  0.873348  0.915126])"
      ]
     },
     "execution_count": 31,
     "metadata": {},
     "output_type": "execute_result"
    }
   ],
   "source": [
    "model_name='NB_C'\n",
    "result,test_true_pred,train_true_pred,importance=get_all_result(train_x_normal_,train_c,\n",
    "                                                                test_x_normal_,test_c,\n",
    "                                                                model_name)\n",
    "importance,result"
   ]
  },
  {
   "cell_type": "code",
   "execution_count": 32,
   "metadata": {
    "scrolled": true
   },
   "outputs": [
    {
     "name": "stdout",
     "output_type": "stream",
     "text": [
      "2/2 [==============================] - 0s 2ms/step\n",
      "5/5 [==============================] - 0s 748us/step\n"
     ]
    },
    {
     "name": "stderr",
     "output_type": "stream",
     "text": [
      "D:\\ANACONDA\\lib\\site-packages\\sklearn\\metrics\\_classification.py:1318: UndefinedMetricWarning: Precision is ill-defined and being set to 0.0 in labels with no predicted samples. Use `zero_division` parameter to control this behavior.\n",
      "  _warn_prf(average, modifier, msg_start, len(result))\n",
      "D:\\ANACONDA\\lib\\site-packages\\sklearn\\metrics\\_classification.py:1318: UndefinedMetricWarning: Precision is ill-defined and being set to 0.0 in labels with no predicted samples. Use `zero_division` parameter to control this behavior.\n",
      "  _warn_prf(average, modifier, msg_start, len(result))\n"
     ]
    },
    {
     "name": "stdout",
     "output_type": "stream",
     "text": [
      "2/2 [==============================] - 0s 996us/step\n",
      "5/5 [==============================] - 0s 747us/step\n"
     ]
    },
    {
     "name": "stderr",
     "output_type": "stream",
     "text": [
      "D:\\ANACONDA\\lib\\site-packages\\sklearn\\metrics\\_classification.py:1318: UndefinedMetricWarning: Precision is ill-defined and being set to 0.0 in labels with no predicted samples. Use `zero_division` parameter to control this behavior.\n",
      "  _warn_prf(average, modifier, msg_start, len(result))\n",
      "D:\\ANACONDA\\lib\\site-packages\\sklearn\\metrics\\_classification.py:1318: UndefinedMetricWarning: Precision is ill-defined and being set to 0.0 in labels with no predicted samples. Use `zero_division` parameter to control this behavior.\n",
      "  _warn_prf(average, modifier, msg_start, len(result))\n"
     ]
    },
    {
     "name": "stdout",
     "output_type": "stream",
     "text": [
      "2/2 [==============================] - 0s 997us/step\n",
      "5/5 [==============================] - 0s 747us/step\n"
     ]
    },
    {
     "name": "stderr",
     "output_type": "stream",
     "text": [
      "D:\\ANACONDA\\lib\\site-packages\\sklearn\\metrics\\_classification.py:1318: UndefinedMetricWarning: Precision is ill-defined and being set to 0.0 in labels with no predicted samples. Use `zero_division` parameter to control this behavior.\n",
      "  _warn_prf(average, modifier, msg_start, len(result))\n",
      "D:\\ANACONDA\\lib\\site-packages\\sklearn\\metrics\\_classification.py:1318: UndefinedMetricWarning: Precision is ill-defined and being set to 0.0 in labels with no predicted samples. Use `zero_division` parameter to control this behavior.\n",
      "  _warn_prf(average, modifier, msg_start, len(result))\n"
     ]
    },
    {
     "name": "stdout",
     "output_type": "stream",
     "text": [
      "2/2 [==============================] - 0s 996us/step\n",
      "5/5 [==============================] - 0s 997us/step\n"
     ]
    },
    {
     "name": "stderr",
     "output_type": "stream",
     "text": [
      "D:\\ANACONDA\\lib\\site-packages\\sklearn\\metrics\\_classification.py:1318: UndefinedMetricWarning: Precision is ill-defined and being set to 0.0 in labels with no predicted samples. Use `zero_division` parameter to control this behavior.\n",
      "  _warn_prf(average, modifier, msg_start, len(result))\n"
     ]
    },
    {
     "data": {
      "text/plain": [
       "[           Y1        Y2        Y3        Y4\n",
       " acc  0.700000  0.800000  0.964286  0.985714\n",
       " pre  0.490000  0.788559  0.929884  0.985926\n",
       " rec  0.700000  0.800000  0.964286  0.985714\n",
       " f1s  0.576471  0.742455  0.946763  0.982196,\n",
       "            Y1        Y2        Y3        Y4\n",
       " acc  0.685714  0.771429  0.914286  0.942857\n",
       " pre  0.470204  0.636310  0.835918  0.888980\n",
       " rec  0.685714  0.771429  0.914286  0.942857\n",
       " f1s  0.557869  0.694189  0.873348  0.915126]"
      ]
     },
     "execution_count": 32,
     "metadata": {},
     "output_type": "execute_result"
    }
   ],
   "source": [
    "model_name='BP_C'\n",
    "result,test_true_pred,train_true_pred,importance=get_BP_result_C(train_x_normal_,train_c,\n",
    "                                                               test_x_normal_,test_c,model_name)\n",
    "result"
   ]
  },
  {
   "cell_type": "markdown",
   "metadata": {},
   "source": [
    "# task4：改变x，使用Utrance"
   ]
  },
  {
   "cell_type": "code",
   "execution_count": 33,
   "metadata": {},
   "outputs": [],
   "source": [
    "train_x_normal_=train_x_normal[list(Utterance_level_label_count.keys())]\n",
    "test_x_normal_=test_x_normal[list(Utterance_level_label_count.keys())]"
   ]
  },
  {
   "cell_type": "code",
   "execution_count": 34,
   "metadata": {
    "scrolled": true
   },
   "outputs": [
    {
     "data": {
      "text/plain": [
       "(                                                  Y1        Y2        Y3  \\\n",
       " question-based responses                    0.050053       NaN       NaN   \n",
       " collaborative finishes                     -0.052884 -0.057033  0.033767   \n",
       " backchannels                               -0.063941       NaN       NaN   \n",
       " impersonal subject + non-factive verb + NP  0.079380  0.046728  0.054628   \n",
       " adjectives/ adverbs expressing possibility  0.118065 -0.074992  0.032900   \n",
       " non-factive verb phrase structure                NaN  0.052985  0.049231   \n",
       " epistemic modals                                 NaN  0.138277  0.071861   \n",
       " feedback in the next turn                        NaN       NaN       NaN   \n",
       " \n",
       "                                                   Y4  \n",
       " question-based responses                    0.017190  \n",
       " collaborative finishes                     -0.054939  \n",
       " backchannels                               -0.004377  \n",
       " impersonal subject + non-factive verb + NP       NaN  \n",
       " adjectives/ adverbs expressing possibility -0.010274  \n",
       " non-factive verb phrase structure                NaN  \n",
       " epistemic modals                                 NaN  \n",
       " feedback in the next turn                   0.004905  ,\n",
       " [            Y1        Y2        Y3        Y4\n",
       "  mae   0.396874  0.335818  0.118706  0.043758\n",
       "  mse   0.473209  0.416835  0.077389  0.015987\n",
       "  mape  0.152212  0.155420  0.036229  0.016777\n",
       "  r2    0.069026  0.084595  0.191303  0.158948,\n",
       "              Y1        Y2        Y3        Y4\n",
       "  mae   0.390822  0.282945  0.094575  0.076101\n",
       "  mse   0.387957  0.243404  0.022013  0.061453\n",
       "  mape  0.120500  0.109737  0.032257  0.035588\n",
       "  r2    0.031560 -0.813960 -0.429787 -0.228637])"
      ]
     },
     "execution_count": 34,
     "metadata": {},
     "output_type": "execute_result"
    }
   ],
   "source": [
    "#================Linear===========\n",
    "model_name='Linear'\n",
    "result,test_true_pred,train_true_pred,importance=get_all_result(train_x_normal_,train_y,\n",
    "                                                                test_x_normal_,test_y,\n",
    "                                                                model_name)\n",
    "importance,result"
   ]
  },
  {
   "cell_type": "code",
   "execution_count": 35,
   "metadata": {
    "scrolled": true
   },
   "outputs": [
    {
     "data": {
      "text/plain": [
       "(                                                  Y1        Y2        Y3  \\\n",
       " question-based responses                    0.114726  0.130049       NaN   \n",
       " impersonal subject + non-factive verb + NP  0.147039       NaN  0.152032   \n",
       " adjectives/ adverbs expressing possibility  0.157818  0.208605  0.114796   \n",
       " feedback in the next turn                   0.164283  0.162848  0.112791   \n",
       " backchannels                                0.176179  0.141270       NaN   \n",
       " formulaic responses                              NaN  0.132936       NaN   \n",
       " epistemic modals                                 NaN       NaN  0.098426   \n",
       " collaborative finishes                           NaN       NaN  0.209903   \n",
       " epistemic copulas                                NaN       NaN       NaN   \n",
       " \n",
       "                                                   Y4  \n",
       " question-based responses                         NaN  \n",
       " impersonal subject + non-factive verb + NP       NaN  \n",
       " adjectives/ adverbs expressing possibility  0.091282  \n",
       " feedback in the next turn                   0.065115  \n",
       " backchannels                                0.159408  \n",
       " formulaic responses                              NaN  \n",
       " epistemic modals                                 NaN  \n",
       " collaborative finishes                      0.411661  \n",
       " epistemic copulas                           0.170921  ,\n",
       "             Y1        Y2        Y3        Y4\n",
       " mae   0.412677  0.400409  0.058505  0.056507\n",
       " mse   0.353384  0.412055  0.020586  0.055971\n",
       " mape  0.130279  0.149309  0.019991  0.029130\n",
       " r2    0.117864 -2.070828 -0.337078 -0.119026)"
      ]
     },
     "execution_count": 35,
     "metadata": {},
     "output_type": "execute_result"
    }
   ],
   "source": [
    "#=================RF===============\n",
    "model_name='RF_R'\n",
    "result,test_true_pred,train_true_pred,importance=get_all_result(train_x_normal_,train_y,\n",
    "                                                                test_x_normal_,test_y,\n",
    "                                                                model_name)\n",
    "importance,result[1]"
   ]
  },
  {
   "cell_type": "code",
   "execution_count": 36,
   "metadata": {
    "scrolled": true
   },
   "outputs": [
    {
     "data": {
      "text/plain": [
       "(                                                  Y1        Y2        Y3  \\\n",
       " epistemic modals                            0.004542  0.034573  0.048915   \n",
       " collaborative finishes                     -0.004610 -0.016063  0.017788   \n",
       " backchannels                               -0.006409       NaN       NaN   \n",
       " impersonal subject + non-factive verb + NP  0.007008  0.019094  0.042254   \n",
       " adjectives/ adverbs expressing possibility  0.010543 -0.013549  0.022696   \n",
       " non-factive verb phrase structure                NaN  0.017240  0.035378   \n",
       " formulaic responses                              NaN       NaN       NaN   \n",
       " question-based responses                         NaN       NaN       NaN   \n",
       " \n",
       "                                                   Y4  \n",
       " epistemic modals                                 NaN  \n",
       " collaborative finishes                     -0.031586  \n",
       " backchannels                               -0.004104  \n",
       " impersonal subject + non-factive verb + NP       NaN  \n",
       " adjectives/ adverbs expressing possibility -0.005701  \n",
       " non-factive verb phrase structure                NaN  \n",
       " formulaic responses                         0.003664  \n",
       " question-based responses                    0.006691  ,\n",
       "             Y1        Y2        Y3        Y4\n",
       " mae   0.369953  0.188942  0.084172  0.064514\n",
       " mse   0.396835  0.155172  0.019148  0.054359\n",
       " mape  0.111382  0.077193  0.028700  0.031688\n",
       " r2    0.009399 -0.156411 -0.243725 -0.086810)"
      ]
     },
     "execution_count": 36,
     "metadata": {},
     "output_type": "execute_result"
    }
   ],
   "source": [
    "#=================RF===============\n",
    "model_name='NB_R'\n",
    "result,test_true_pred,train_true_pred,importance=get_all_result(train_x_normal_,train_y,\n",
    "                                                                test_x_normal_,test_y,\n",
    "                                                                model_name)\n",
    "importance,result[1]"
   ]
  },
  {
   "cell_type": "code",
   "execution_count": 37,
   "metadata": {},
   "outputs": [
    {
     "name": "stdout",
     "output_type": "stream",
     "text": [
      "2/2 [==============================] - 0s 2ms/step\n",
      "5/5 [==============================] - 0s 996us/step\n"
     ]
    },
    {
     "data": {
      "text/plain": [
       "[            Y1        Y2        Y3        Y4\n",
       " mae   0.344749  0.319934  0.109670  0.059843\n",
       " mse   0.408031  0.336264  0.066196  0.014159\n",
       " mape  0.129870  0.142312  0.033402  0.021488\n",
       " r2    0.197256  0.261537  0.308270  0.255111,\n",
       "             Y1        Y2        Y3        Y4\n",
       " mae   0.401037  0.262078  0.094068  0.130187\n",
       " mse   0.406271  0.216370  0.019657  0.086981\n",
       " mape  0.124952  0.102766  0.031972  0.053699\n",
       " r2   -0.014156 -0.612489 -0.276776 -0.739030]"
      ]
     },
     "execution_count": 37,
     "metadata": {},
     "output_type": "execute_result"
    }
   ],
   "source": [
    "model_name='BP_R'\n",
    "result,test_true_pred,train_true_pred,importance=get_BP_result(train_x_normal_,train_y,\n",
    "                                                               test_x_normal_,test_y,model_name)\n",
    "result"
   ]
  },
  {
   "cell_type": "code",
   "execution_count": 38,
   "metadata": {
    "scrolled": true
   },
   "outputs": [
    {
     "name": "stderr",
     "output_type": "stream",
     "text": [
      "D:\\ANACONDA\\lib\\site-packages\\sklearn\\metrics\\_classification.py:1318: UndefinedMetricWarning: Precision is ill-defined and being set to 0.0 in labels with no predicted samples. Use `zero_division` parameter to control this behavior.\n",
      "  _warn_prf(average, modifier, msg_start, len(result))\n",
      "D:\\ANACONDA\\lib\\site-packages\\sklearn\\metrics\\_classification.py:1318: UndefinedMetricWarning: Precision is ill-defined and being set to 0.0 in labels with no predicted samples. Use `zero_division` parameter to control this behavior.\n",
      "  _warn_prf(average, modifier, msg_start, len(result))\n",
      "D:\\ANACONDA\\lib\\site-packages\\sklearn\\metrics\\_classification.py:1318: UndefinedMetricWarning: Precision is ill-defined and being set to 0.0 in labels with no predicted samples. Use `zero_division` parameter to control this behavior.\n",
      "  _warn_prf(average, modifier, msg_start, len(result))\n",
      "D:\\ANACONDA\\lib\\site-packages\\sklearn\\metrics\\_classification.py:1318: UndefinedMetricWarning: Precision is ill-defined and being set to 0.0 in labels with no predicted samples. Use `zero_division` parameter to control this behavior.\n",
      "  _warn_prf(average, modifier, msg_start, len(result))\n",
      "D:\\ANACONDA\\lib\\site-packages\\sklearn\\metrics\\_classification.py:1318: UndefinedMetricWarning: Precision is ill-defined and being set to 0.0 in labels with no predicted samples. Use `zero_division` parameter to control this behavior.\n",
      "  _warn_prf(average, modifier, msg_start, len(result))\n",
      "D:\\ANACONDA\\lib\\site-packages\\sklearn\\metrics\\_classification.py:1318: UndefinedMetricWarning: Precision is ill-defined and being set to 0.0 in labels with no predicted samples. Use `zero_division` parameter to control this behavior.\n",
      "  _warn_prf(average, modifier, msg_start, len(result))\n",
      "D:\\ANACONDA\\lib\\site-packages\\sklearn\\metrics\\_classification.py:1318: UndefinedMetricWarning: Recall is ill-defined and being set to 0.0 in labels with no true samples. Use `zero_division` parameter to control this behavior.\n",
      "  _warn_prf(average, modifier, msg_start, len(result))\n",
      "D:\\ANACONDA\\lib\\site-packages\\sklearn\\metrics\\_classification.py:1318: UndefinedMetricWarning: Precision is ill-defined and being set to 0.0 in labels with no predicted samples. Use `zero_division` parameter to control this behavior.\n",
      "  _warn_prf(average, modifier, msg_start, len(result))\n",
      "D:\\ANACONDA\\lib\\site-packages\\sklearn\\metrics\\_classification.py:1318: UndefinedMetricWarning: Precision is ill-defined and being set to 0.0 in labels with no predicted samples. Use `zero_division` parameter to control this behavior.\n",
      "  _warn_prf(average, modifier, msg_start, len(result))\n",
      "D:\\ANACONDA\\lib\\site-packages\\sklearn\\metrics\\_classification.py:1318: UndefinedMetricWarning: Recall is ill-defined and being set to 0.0 in labels with no true samples. Use `zero_division` parameter to control this behavior.\n",
      "  _warn_prf(average, modifier, msg_start, len(result))\n"
     ]
    },
    {
     "data": {
      "text/plain": [
       "(                                                  Y1        Y2        Y3  \\\n",
       " adjectives/ adverbs expressing possibility -0.184910       NaN -0.634980   \n",
       " impersonal subject + non-factive verb + NP  0.188682       NaN       NaN   \n",
       " epistemic copulas                          -0.248192 -0.275965  0.256244   \n",
       " question-based responses                   -0.336025       NaN -0.376318   \n",
       " epistemic modals                           -0.448760       NaN -0.223982   \n",
       " backchannels                                     NaN  0.284784       NaN   \n",
       " non-factive verb phrase structure                NaN  0.320516       NaN   \n",
       " collaborative finishes                           NaN -0.447255  0.596214   \n",
       " formulaic responses                              NaN -0.496914       NaN   \n",
       " \n",
       "                                                   Y4  \n",
       " adjectives/ adverbs expressing possibility -0.566951  \n",
       " impersonal subject + non-factive verb + NP       NaN  \n",
       " epistemic copulas                           0.228585  \n",
       " question-based responses                   -0.280420  \n",
       " epistemic modals                                 NaN  \n",
       " backchannels                                     NaN  \n",
       " non-factive verb phrase structure                NaN  \n",
       " collaborative finishes                      0.492161  \n",
       " formulaic responses                        -0.176050  ,\n",
       " [           Y1        Y2        Y3        Y4\n",
       "  acc  0.721429  0.764286  0.942857  0.964286\n",
       "  pre  0.647269  0.693558  0.896146  0.937008\n",
       "  rec  0.721429  0.764286  0.942857  0.964286\n",
       "  f1s  0.623121  0.685758  0.917513  0.949139,\n",
       "             Y1        Y2        Y3        Y4\n",
       "  acc  0.628571  0.742857  0.885714  0.914286\n",
       "  pre  0.457143  0.607792  0.833613  0.887395\n",
       "  rec  0.628571  0.742857  0.885714  0.914286\n",
       "  f1s  0.529323  0.668571  0.858874  0.900640])"
      ]
     },
     "execution_count": 38,
     "metadata": {},
     "output_type": "execute_result"
    }
   ],
   "source": [
    "model_name='Logit'\n",
    "result,test_true_pred,train_true_pred,importance=get_all_result(train_x_normal_,train_c,\n",
    "                                                                test_x_normal_,test_c,\n",
    "                                                                model_name)\n",
    "importance,result"
   ]
  },
  {
   "cell_type": "code",
   "execution_count": 39,
   "metadata": {},
   "outputs": [
    {
     "name": "stderr",
     "output_type": "stream",
     "text": [
      "D:\\ANACONDA\\lib\\site-packages\\sklearn\\metrics\\_classification.py:1318: UndefinedMetricWarning: Precision is ill-defined and being set to 0.0 in labels with no predicted samples. Use `zero_division` parameter to control this behavior.\n",
      "  _warn_prf(average, modifier, msg_start, len(result))\n",
      "D:\\ANACONDA\\lib\\site-packages\\sklearn\\metrics\\_classification.py:1318: UndefinedMetricWarning: Precision is ill-defined and being set to 0.0 in labels with no predicted samples. Use `zero_division` parameter to control this behavior.\n",
      "  _warn_prf(average, modifier, msg_start, len(result))\n",
      "D:\\ANACONDA\\lib\\site-packages\\sklearn\\metrics\\_classification.py:1318: UndefinedMetricWarning: Precision is ill-defined and being set to 0.0 in labels with no predicted samples. Use `zero_division` parameter to control this behavior.\n",
      "  _warn_prf(average, modifier, msg_start, len(result))\n"
     ]
    },
    {
     "data": {
      "text/plain": [
       "(                                                  Y1        Y2        Y3  \\\n",
       " formulaic responses                         0.115197  0.135452       NaN   \n",
       " question-based responses                    0.117645  0.149015       NaN   \n",
       " adjectives/ adverbs expressing possibility  0.142520  0.150961       NaN   \n",
       " feedback in the next turn                   0.163972  0.154238  0.152521   \n",
       " backchannels                                0.169295  0.118339  0.105877   \n",
       " epistemic modals                                 NaN       NaN  0.128288   \n",
       " collaborative finishes                           NaN       NaN  0.178772   \n",
       " epistemic copulas                                NaN       NaN  0.179103   \n",
       " \n",
       "                                                   Y4  \n",
       " formulaic responses                              NaN  \n",
       " question-based responses                    0.123961  \n",
       " adjectives/ adverbs expressing possibility       NaN  \n",
       " feedback in the next turn                   0.127207  \n",
       " backchannels                                0.187831  \n",
       " epistemic modals                                 NaN  \n",
       " collaborative finishes                      0.241577  \n",
       " epistemic copulas                           0.202766  ,\n",
       " [           Y1        Y2        Y3        Y4\n",
       "  acc  0.878571  0.921429  0.985714  0.992857\n",
       "  pre  0.886769  0.928944  0.985929  0.992910\n",
       "  rec  0.878571  0.921429  0.985714  0.992857\n",
       "  f1s  0.869601  0.915662  0.983864  0.992156,\n",
       "             Y1        Y2        Y3        Y4\n",
       "  acc  0.714286  0.657143  0.914286  0.942857\n",
       "  pre  0.568971  0.591429  0.835918  0.888980\n",
       "  rec  0.714286  0.657143  0.914286  0.942857\n",
       "  f1s  0.631095  0.622556  0.873348  0.915126])"
      ]
     },
     "execution_count": 39,
     "metadata": {},
     "output_type": "execute_result"
    }
   ],
   "source": [
    "model_name='RF_C'\n",
    "result,test_true_pred,train_true_pred,importance=get_all_result(train_x_normal_,train_c,\n",
    "                                                                test_x_normal_,test_c,\n",
    "                                                                model_name)\n",
    "importance,result"
   ]
  },
  {
   "cell_type": "code",
   "execution_count": 40,
   "metadata": {
    "scrolled": true
   },
   "outputs": [
    {
     "name": "stderr",
     "output_type": "stream",
     "text": [
      "D:\\ANACONDA\\lib\\site-packages\\sklearn\\metrics\\_classification.py:1318: UndefinedMetricWarning: Precision is ill-defined and being set to 0.0 in labels with no predicted samples. Use `zero_division` parameter to control this behavior.\n",
      "  _warn_prf(average, modifier, msg_start, len(result))\n",
      "D:\\ANACONDA\\lib\\site-packages\\sklearn\\metrics\\_classification.py:1318: UndefinedMetricWarning: Precision is ill-defined and being set to 0.0 in labels with no predicted samples. Use `zero_division` parameter to control this behavior.\n",
      "  _warn_prf(average, modifier, msg_start, len(result))\n",
      "D:\\ANACONDA\\lib\\site-packages\\sklearn\\utils\\deprecation.py:103: FutureWarning: Attribute `coef_` was deprecated in version 0.24 and will be removed in 1.1 (renaming of 0.26).\n",
      "  warnings.warn(msg, category=FutureWarning)\n",
      "D:\\ANACONDA\\lib\\site-packages\\sklearn\\metrics\\_classification.py:1318: UndefinedMetricWarning: Precision is ill-defined and being set to 0.0 in labels with no predicted samples. Use `zero_division` parameter to control this behavior.\n",
      "  _warn_prf(average, modifier, msg_start, len(result))\n",
      "D:\\ANACONDA\\lib\\site-packages\\sklearn\\metrics\\_classification.py:1318: UndefinedMetricWarning: Precision is ill-defined and being set to 0.0 in labels with no predicted samples. Use `zero_division` parameter to control this behavior.\n",
      "  _warn_prf(average, modifier, msg_start, len(result))\n",
      "D:\\ANACONDA\\lib\\site-packages\\sklearn\\utils\\deprecation.py:103: FutureWarning: Attribute `coef_` was deprecated in version 0.24 and will be removed in 1.1 (renaming of 0.26).\n",
      "  warnings.warn(msg, category=FutureWarning)\n",
      "D:\\ANACONDA\\lib\\site-packages\\sklearn\\metrics\\_classification.py:1318: UndefinedMetricWarning: Precision is ill-defined and being set to 0.0 in labels with no predicted samples. Use `zero_division` parameter to control this behavior.\n",
      "  _warn_prf(average, modifier, msg_start, len(result))\n",
      "D:\\ANACONDA\\lib\\site-packages\\sklearn\\metrics\\_classification.py:1318: UndefinedMetricWarning: Precision is ill-defined and being set to 0.0 in labels with no predicted samples. Use `zero_division` parameter to control this behavior.\n",
      "  _warn_prf(average, modifier, msg_start, len(result))\n",
      "D:\\ANACONDA\\lib\\site-packages\\sklearn\\utils\\deprecation.py:103: FutureWarning: Attribute `coef_` was deprecated in version 0.24 and will be removed in 1.1 (renaming of 0.26).\n",
      "  warnings.warn(msg, category=FutureWarning)\n",
      "D:\\ANACONDA\\lib\\site-packages\\sklearn\\metrics\\_classification.py:1318: UndefinedMetricWarning: Precision is ill-defined and being set to 0.0 in labels with no predicted samples. Use `zero_division` parameter to control this behavior.\n",
      "  _warn_prf(average, modifier, msg_start, len(result))\n",
      "D:\\ANACONDA\\lib\\site-packages\\sklearn\\metrics\\_classification.py:1318: UndefinedMetricWarning: Precision is ill-defined and being set to 0.0 in labels with no predicted samples. Use `zero_division` parameter to control this behavior.\n",
      "  _warn_prf(average, modifier, msg_start, len(result))\n",
      "D:\\ANACONDA\\lib\\site-packages\\sklearn\\utils\\deprecation.py:103: FutureWarning: Attribute `coef_` was deprecated in version 0.24 and will be removed in 1.1 (renaming of 0.26).\n",
      "  warnings.warn(msg, category=FutureWarning)\n"
     ]
    },
    {
     "data": {
      "text/plain": [
       "(                                                  Y1        Y2        Y3  \\\n",
       " impersonal subject + non-factive verb + NP -1.504077 -1.609438 -1.386294   \n",
       " question-based responses                   -2.197225       NaN       NaN   \n",
       " epistemic modals                           -2.197225       NaN -1.386294   \n",
       " non-factive verb phrase structure          -2.197225 -1.609438 -1.386294   \n",
       " epistemic copulas                          -2.197225 -2.302585       NaN   \n",
       " feedback in the next turn                        NaN -1.609438 -1.386294   \n",
       " collaborative finishes                           NaN -2.302585       NaN   \n",
       " adjectives/ adverbs expressing possibility       NaN       NaN -1.386294   \n",
       " \n",
       "                                                   Y4  \n",
       " impersonal subject + non-factive verb + NP -1.386294  \n",
       " question-based responses                         NaN  \n",
       " epistemic modals                           -1.386294  \n",
       " non-factive verb phrase structure          -1.386294  \n",
       " epistemic copulas                                NaN  \n",
       " feedback in the next turn                  -1.386294  \n",
       " collaborative finishes                           NaN  \n",
       " adjectives/ adverbs expressing possibility -1.386294  ,\n",
       " [           Y1        Y2        Y3        Y4\n",
       "  acc  0.707143  0.757143  0.950000  0.942857\n",
       "  pre  0.594549  0.649026  0.902536  0.902158\n",
       "  rec  0.707143  0.757143  0.950000  0.942857\n",
       "  f1s  0.616279  0.682883  0.925651  0.922059,\n",
       "             Y1        Y2        Y3        Y4\n",
       "  acc  0.685714  0.771429  0.914286  0.942857\n",
       "  pre  0.470204  0.595102  0.835918  0.888980\n",
       "  rec  0.685714  0.771429  0.914286  0.942857\n",
       "  f1s  0.557869  0.671889  0.873348  0.915126])"
      ]
     },
     "execution_count": 40,
     "metadata": {},
     "output_type": "execute_result"
    }
   ],
   "source": [
    "model_name='NB_C'\n",
    "result,test_true_pred,train_true_pred,importance=get_all_result(train_x_normal_,train_c,\n",
    "                                                                test_x_normal_,test_c,\n",
    "                                                                model_name)\n",
    "importance,result"
   ]
  },
  {
   "cell_type": "code",
   "execution_count": 41,
   "metadata": {
    "scrolled": true
   },
   "outputs": [
    {
     "name": "stdout",
     "output_type": "stream",
     "text": [
      "2/2 [==============================] - 0s 997us/step\n",
      "5/5 [==============================] - 0s 748us/step\n"
     ]
    },
    {
     "name": "stderr",
     "output_type": "stream",
     "text": [
      "D:\\ANACONDA\\lib\\site-packages\\sklearn\\metrics\\_classification.py:1318: UndefinedMetricWarning: Precision is ill-defined and being set to 0.0 in labels with no predicted samples. Use `zero_division` parameter to control this behavior.\n",
      "  _warn_prf(average, modifier, msg_start, len(result))\n",
      "D:\\ANACONDA\\lib\\site-packages\\sklearn\\metrics\\_classification.py:1318: UndefinedMetricWarning: Precision is ill-defined and being set to 0.0 in labels with no predicted samples. Use `zero_division` parameter to control this behavior.\n",
      "  _warn_prf(average, modifier, msg_start, len(result))\n"
     ]
    },
    {
     "name": "stdout",
     "output_type": "stream",
     "text": [
      "2/2 [==============================] - 0s 2ms/step\n",
      "5/5 [==============================] - 0s 997us/step\n"
     ]
    },
    {
     "name": "stderr",
     "output_type": "stream",
     "text": [
      "D:\\ANACONDA\\lib\\site-packages\\sklearn\\metrics\\_classification.py:1318: UndefinedMetricWarning: Precision is ill-defined and being set to 0.0 in labels with no predicted samples. Use `zero_division` parameter to control this behavior.\n",
      "  _warn_prf(average, modifier, msg_start, len(result))\n"
     ]
    },
    {
     "name": "stdout",
     "output_type": "stream",
     "text": [
      "2/2 [==============================] - 0s 2ms/step\n",
      "5/5 [==============================] - 0s 748us/step\n"
     ]
    },
    {
     "name": "stderr",
     "output_type": "stream",
     "text": [
      "D:\\ANACONDA\\lib\\site-packages\\sklearn\\metrics\\_classification.py:1318: UndefinedMetricWarning: Precision is ill-defined and being set to 0.0 in labels with no predicted samples. Use `zero_division` parameter to control this behavior.\n",
      "  _warn_prf(average, modifier, msg_start, len(result))\n",
      "D:\\ANACONDA\\lib\\site-packages\\sklearn\\metrics\\_classification.py:1318: UndefinedMetricWarning: Precision is ill-defined and being set to 0.0 in labels with no predicted samples. Use `zero_division` parameter to control this behavior.\n",
      "  _warn_prf(average, modifier, msg_start, len(result))\n"
     ]
    },
    {
     "name": "stdout",
     "output_type": "stream",
     "text": [
      "2/2 [==============================] - 0s 997us/step\n",
      "5/5 [==============================] - 0s 997us/step\n"
     ]
    },
    {
     "name": "stderr",
     "output_type": "stream",
     "text": [
      "D:\\ANACONDA\\lib\\site-packages\\sklearn\\metrics\\_classification.py:1318: UndefinedMetricWarning: Precision is ill-defined and being set to 0.0 in labels with no predicted samples. Use `zero_division` parameter to control this behavior.\n",
      "  _warn_prf(average, modifier, msg_start, len(result))\n"
     ]
    },
    {
     "data": {
      "text/plain": [
       "[           Y1        Y2        Y3        Y4\n",
       " acc  0.700000  0.842857  0.950000  0.971429\n",
       " pre  0.490000  0.870295  0.916822  0.961187\n",
       " rec  0.700000  0.842857  0.950000  0.971429\n",
       " f1s  0.576471  0.813432  0.930412  0.964643,\n",
       "            Y1        Y2        Y3        Y4\n",
       " acc  0.685714  0.714286  0.914286  0.914286\n",
       " pre  0.470204  0.602679  0.835918  0.887395\n",
       " rec  0.685714  0.714286  0.914286  0.914286\n",
       " f1s  0.557869  0.653753  0.873348  0.900640]"
      ]
     },
     "execution_count": 41,
     "metadata": {},
     "output_type": "execute_result"
    }
   ],
   "source": [
    "model_name='BP_C'\n",
    "result,test_true_pred,train_true_pred,importance=get_BP_result_C(train_x_normal_,train_c,\n",
    "                                                               test_x_normal_,test_c,model_name)\n",
    "result"
   ]
  },
  {
   "cell_type": "code",
   "execution_count": null,
   "metadata": {},
   "outputs": [],
   "source": []
  },
  {
   "cell_type": "code",
   "execution_count": null,
   "metadata": {},
   "outputs": [],
   "source": []
  }
 ],
 "metadata": {
  "kernelspec": {
   "display_name": "Python 3",
   "language": "python",
   "name": "python3"
  },
  "language_info": {
   "codemirror_mode": {
    "name": "ipython",
    "version": 3
   },
   "file_extension": ".py",
   "mimetype": "text/x-python",
   "name": "python",
   "nbconvert_exporter": "python",
   "pygments_lexer": "ipython3",
   "version": "3.7.6"
  },
  "toc": {
   "base_numbering": 1,
   "nav_menu": {},
   "number_sections": true,
   "sideBar": true,
   "skip_h1_title": false,
   "title_cell": "Table of Contents",
   "title_sidebar": "Contents",
   "toc_cell": false,
   "toc_position": {},
   "toc_section_display": true,
   "toc_window_display": false
  },
  "varInspector": {
   "cols": {
    "lenName": 16,
    "lenType": 16,
    "lenVar": 40
   },
   "kernels_config": {
    "python": {
     "delete_cmd_postfix": "",
     "delete_cmd_prefix": "del ",
     "library": "var_list.py",
     "varRefreshCmd": "print(var_dic_list())"
    },
    "r": {
     "delete_cmd_postfix": ") ",
     "delete_cmd_prefix": "rm(",
     "library": "var_list.r",
     "varRefreshCmd": "cat(var_dic_list()) "
    }
   },
   "types_to_exclude": [
    "module",
    "function",
    "builtin_function_or_method",
    "instance",
    "_Feature"
   ],
   "window_display": false
  }
 },
 "nbformat": 4,
 "nbformat_minor": 5
}
